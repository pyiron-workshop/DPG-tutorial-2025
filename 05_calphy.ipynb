{
 "cells": [
  {
   "cell_type": "markdown",
   "metadata": {},
   "source": [
    "## <font style=\"font-family:roboto;color:#455e6c\"> Calculation of phase diagrams </font>  "
   ]
  },
  {
   "cell_type": "markdown",
   "metadata": {},
   "source": [
    "<div class=\"admonition note\" name=\"html-admonition\" style=\"background:#e3f2fd; padding: 10px\">\n",
    "<font style=\"font-family:roboto;color:#455e6c\"> <b> DPG Tutorial: Automated Workflows and Machine Learning for Materials Science Simulations </b> </font> </br>\n",
    "<font style=\"font-family:roboto;color:#455e6c\"> 16 March 2024 </font>\n",
    "</div>"
   ]
  },
  {
   "cell_type": "markdown",
   "metadata": {},
   "source": [
    "In this notebook, we will use the interatomic potentials for calculation of thermodynamic properties such as Helmholtz and Gibbs free energies, which in turn can be used for the calculation of phase diagrams. We will discuss [calphy](https://calphy.org/), the tool for automated calculation of free energies, and the methology involved."
   ]
  },
  {
   "cell_type": "markdown",
   "metadata": {},
   "source": [
    "### <font style=\"font-family:roboto;color:#455e6c\"> A simple phase diagram </font> "
   ]
  },
  {
   "cell_type": "markdown",
   "metadata": {},
   "source": [
    "<img src=\"img/phase_dia_1.png\" width=\"40%\">"
   ]
  },
  {
   "cell_type": "markdown",
   "metadata": {},
   "source": [
    "Phase diagrams provide a wealth of information such as: coexisting lines, melting temperature, phase stability, nucleation mechanism."
   ]
  },
  {
   "cell_type": "markdown",
   "metadata": {},
   "source": [
    "### <font style=\"font-family:roboto;color:#455e6c\"> Calculation of phase diagrams: the essential ingredients </font> "
   ]
  },
  {
   "cell_type": "markdown",
   "metadata": {},
   "source": [
    "<img src=\"img/cimg4.png\" width=\"30%\">"
   ]
  },
  {
   "cell_type": "markdown",
   "metadata": {},
   "source": [
    "Phase diagrams can be evaluated from free energy diagrams. The required input are:\n",
    "- $G(P, T)$ for unary systems\n",
    "- $G(x, T)$ for binary systems\n",
    "\n",
    "To calculate this, we employ thermodynamic integration, in conjuction with a number of methodological improvements."
   ]
  },
  {
   "cell_type": "markdown",
   "metadata": {},
   "source": [
    "<div class=\"admonition note\" name=\"html-admonition\" style=\"background: #FFEDD1; padding: 10px\">\n",
    "<p class=\"title\"><b>Theory behind free energy calculation </b></p>\n",
    "Please see the end of this notebook, or  <a href=\"https://journals.aps.org/prmaterials/abstract/10.1103/PhysRevMaterials.5.103801\">this publication</a> for a longer discussion on the theory and algorithms.\n",
    "</div>"
   ]
  },
  {
   "cell_type": "markdown",
   "metadata": {},
   "source": [
    "Due to our limited time, we will show the calculation of melting temperature, the end point on the phase diagram. We leverage a software tool for calculation of free energies, [calphy](https://calphy.org) along with pyiron for efficient and automated free energy calculations. For a detailed tutorial, see [here](https://workshop.pyiron.org/potentials-workshop-2022/phase_diagram/Intro.html)."
   ]
  },
  {
   "cell_type": "code",
   "execution_count": 1,
   "metadata": {},
   "outputs": [],
   "source": [
    "from pyiron_workflow import Workflow\n",
    "from pyironflow import PyironFlow"
   ]
  },
  {
   "cell_type": "markdown",
   "metadata": {},
   "source": [
    "### <font style=\"font-family:roboto;color:#455e6c\"> Calculate free energy with temperature for solid</font> "
   ]
  },
  {
   "cell_type": "markdown",
   "metadata": {},
   "source": [
    "By now we have seen how the GUI works. We try to calculate the free energy of an Al FCC structure.\n",
    "\n",
    "Helpful nodes:\n",
    "- `atomistic -> structure -> build -> Bulk` to create a structure. Make sure to check `cubic` box.\n",
    "- `atomistic -> structure -> transform -> Repeat` to create a supercell. A 3x3x3 cell should work for this example.\n",
    "- `atomistic -> thermodynamics -> calphy -> InputClass` to set inputs for free energy calculation.\n",
    "- `atomistic -> thermodynamics -> calphy -> SolidFreeEnergyWithTemp` for calculating the free energy. A good potential which is fast to try out this calculation would be `2009--Mendelev-M-I--Al-Mg--LAMMPS--ipr1`\n",
    "- `atomistic -> thermodynamics -> calphy -> PlotFreeEnergy` for a plot."
   ]
  },
  {
   "cell_type": "code",
   "execution_count": null,
   "metadata": {},
   "outputs": [],
   "source": [
    "pf = PyironFlow()"
   ]
  },
  {
   "cell_type": "markdown",
   "metadata": {},
   "source": [
    "<div class=\"admonition note\" name=\"html-admonition\" style=\"background: #FFEDD1; padding: 10px\">\n",
    "<p class=\"title\"><b>Need the solution?</b></p>\n",
    "Copy paste the following code into a cell and execute:\n",
    "</br>\n",
    "</br>\n",
    "pf = PyironFlow([Workflow(\"calphy-fe1\")]) </br>\n",
    "pf.gui\n",
    "\n",
    "</div>"
   ]
  },
  {
   "cell_type": "markdown",
   "metadata": {},
   "source": [
    "### <font style=\"font-family:roboto;color:#455e6c\"> Calculate melting temperature </font> "
   ]
  },
  {
   "cell_type": "markdown",
   "metadata": {},
   "source": [
    "Now we take a step forward and calculate the melting temperature. The melting temperature is the temperature at which the free energies of the solid and liquid phases are equal. \n",
    "\n",
    "In addition to the nodes above, the following would be useful:\n",
    "\n",
    "- `atomistic -> thermodynamics -> calphy -> LiquidFreeEnergyWithTemperature` for calculating the free energy of the liquid phase\n",
    "- `atomistic -> thermodynamics -> calphy -> CalcPhaseTransformationTemp` for calculating phase transformation temperature.\n",
    "- A good temperature window to be set in the `InputClass` would be 800-1100 K."
   ]
  },
  {
   "cell_type": "code",
   "execution_count": null,
   "metadata": {},
   "outputs": [],
   "source": [
    "pf = PyironFlow()"
   ]
  },
  {
   "cell_type": "code",
   "execution_count": null,
   "metadata": {},
   "outputs": [],
   "source": [
    "pf.gui"
   ]
  },
  {
   "cell_type": "markdown",
   "metadata": {},
   "source": [
    "<div class=\"admonition note\" name=\"html-admonition\" style=\"background: #FFEDD1; padding: 10px\">\n",
    "<p class=\"title\"><b>Need the solution?</b></p>\n",
    "Copy paste the following code into a cell and execute:\n",
    "</br>\n",
    "</br>\n",
    "pf = PyironFlow([Workflow(\"calphy-tm1\")]) </br>\n",
    "pf.gui\n",
    "\n",
    "</div>"
   ]
  },
  {
   "cell_type": "markdown",
   "metadata": {},
   "source": [
    "### <font style=\"color:#455e6c\" face=\"Helvetica\" > Calculation of free energies: Thermodynamic integration </font>"
   ]
  },
  {
   "cell_type": "markdown",
   "metadata": {},
   "source": [
    "<img src=\"img/fig1.png\" width=\"1000\">"
   ]
  },
  {
   "cell_type": "markdown",
   "metadata": {},
   "source": [
    "- free energy of reference system are known: Einstein crystal, [Uhlenbeck-Ford model](https://doi.org/10.1063/1.4967775)\n",
    "- the two systems are coupled by \n",
    "$$\n",
    "H(\\lambda) = \\lambda H_f + (1-\\lambda)\\lambda H_i\n",
    "$$\n",
    "- Run calculations for each $\\lambda$ and integrate \n",
    "$$\n",
    "G_f = G_i + \\int_{\\lambda=0}^1 d\\lambda \\bigg \\langle  \\frac{\\partial H(\\lambda)}{\\partial \\lambda } \\bigg \\rangle\n",
    "$$"
   ]
  },
  {
   "cell_type": "markdown",
   "metadata": {},
   "source": [
    "To calculate $F$,\n",
    "\n",
    "- for each phase\n",
    "    - for each pressure\n",
    "        - for each temperature\n",
    "            - for each $\\lambda$\n",
    "\n",
    "If we choose 100 different $\\lambda$ values; 100 calculations are needed for each temperature and pressure! \n",
    "\n",
    "**Dimensionality: (phase, $P$, $T$, $\\lambda$)**"
   ]
  },
  {
   "cell_type": "markdown",
   "metadata": {},
   "source": [
    "### <font style=\"color:#455e6c\" face=\"Helvetica\" > Speeding things up: Non-equilibrium calculations </font>"
   ]
  },
  {
   "cell_type": "markdown",
   "metadata": {},
   "source": [
    "##### Non-Equilibrium Hamiltonian Interpolation\n",
    "\n",
    "<img src=\"img/cimg5.png\" width=\"600\">"
   ]
  },
  {
   "cell_type": "markdown",
   "metadata": {},
   "source": [
    "In this method:\n",
    "\n",
    "- Discrete $\\lambda$ parameter is replaced by a time dependent $\\lambda(t)$\n",
    "- Instead of running calculations at each $\\lambda$, run a single, short, non-equilibrium calculation"
   ]
  },
  {
   "cell_type": "markdown",
   "metadata": {},
   "source": [
    "$$\n",
    "G_f = G_i + \\int_{t_i}^{t_f} dt \\frac{d\\lambda (t)}{dt}  \\frac{ H(\\lambda)}{\\partial \\lambda }\n",
    "$$"
   ]
  },
  {
   "cell_type": "markdown",
   "metadata": {},
   "source": [
    "As discussed:\n",
    "- the coupling parameter $\\lambda$ earlier is replaced by a time dependent parameter\n",
    "- The equation also no longer has an ensemble average  \n",
    "\n",
    "These aspects makes it quite easy and fast to estimate this integral."
   ]
  },
  {
   "cell_type": "markdown",
   "metadata": {},
   "source": [
    "However:\n",
    "- this equation holds when the switching betwen the system of interest and reference system is carried out infinitely slowly\n",
    "- Practically, this is not not possible. "
   ]
  },
  {
   "cell_type": "markdown",
   "metadata": {},
   "source": [
    "Therefore we can write:\n",
    "\n",
    "$$\n",
    "\\Delta G = W_{rev} = W_s - E_d\n",
    "$$\n",
    "\n",
    "$$\n",
    "W_s = \\int_{t_i}^{t_f} dt \\frac{d\\lambda (t)}{dt}  \\frac{ H(\\lambda)}{\\partial \\lambda }\n",
    "$$\n",
    "\n",
    "- $E_d$ is the energy dissipation\n",
    "- $E_d \\to 0$ when $t_f-t_i \\to \\infty$"
   ]
  },
  {
   "cell_type": "markdown",
   "metadata": {},
   "source": [
    "So far, so good, but how is this useful?\n",
    "\n",
    "- Instead of a single transformation from system of interest to reference, we switch back too\n",
    "- These are called forward $(i \\to f)$ and backward $(f \\to i)$ switching\n",
    "- $t_f - t_i = t_{sw}$ is the switching time in each direction\n",
    "- If $t_{sw}$ is long enough, $E_d^{i \\to f} = E_d^{f \\to i}$\n",
    "- and $\\Delta G = \\frac{1}{2} (W_s^{i \\to f} - W_s^{f \\to i})$"
   ]
  },
  {
   "cell_type": "markdown",
   "metadata": {},
   "source": [
    "Now, we have all the components required for actual calculations.\n",
    "\n",
    "We have also managed to successfully reduce the dimensionality\n",
    "\n",
    "- for each phase\n",
    "    - for each pressure\n",
    "        - for each temperature\n",
    "            - ~~for each $\\lambda$~~\n",
    "\n",
    "**Dimensionality: (phase, $P$, $T$)**\n",
    "\n",
    "\n",
    "So, how do we calculate the free energy of a system modelled with a given interatomic potential?"
   ]
  },
  {
   "cell_type": "markdown",
   "metadata": {},
   "source": [
    "### <font style=\"color:#455e6c\" face=\"Helvetica\" > Free energy for solids </font>"
   ]
  },
  {
   "cell_type": "markdown",
   "metadata": {},
   "source": [
    "#### Task: Find free energy of Al in FCC lattice at 500 K and 0 pressure"
   ]
  },
  {
   "cell_type": "markdown",
   "metadata": {},
   "source": [
    "1. Create an Al FCC lattice\n",
    "2. Choose an interatomic potential\n",
    "3. Run MD calculations at 500 K and 0 pressure to equilibrate the system\n",
    "4. Introduce the reference system\n",
    "5. Switch....\n",
    "6. ....."
   ]
  },
  {
   "cell_type": "markdown",
   "metadata": {},
   "source": [
    "Steps 1-3 should be fairly easy, we saw this in the last days and also in the first session. But how do we introduce a reference system?\n",
    "\n",
    "- A reference system is simply one for which the free energy is analytically known ($G_i$)\n",
    "- We calculate the free energy difference between this and the system of interest.\n",
    "\n",
    "In case of solids, a good choice of a reference system is the Einstein crystal. An Einstein crystal is a set of independent harmonic oscillators attached to the lattice positions. \n"
   ]
  },
  {
   "cell_type": "markdown",
   "metadata": {},
   "source": [
    "The free energy of the Einstein crystal is:\n",
    "\n",
    "$$\n",
    "F_E = 3 k_B T \\sum_{i} ln \\bigg ( \\frac{\\hbar \\omega_i}{k_B T} \\bigg )\n",
    "$$\n",
    "\n",
    "We need to calculate:\n",
    "\n",
    "- $\\omega$\n",
    "- A common way is $$  \\frac{1}{2} k_i \\langle (\\Delta \\pmb{r}_i)^2 \\rangle = \\frac{3}{2} k_\\mathrm{B} T $$\n",
    "- $\\langle (\\Delta \\pmb{r}_i)^2 \\rangle$ is the mean squared displacement."
   ]
  },
  {
   "cell_type": "markdown",
   "metadata": {},
   "source": [
    "Now that we know about the reference system, let's update our pseudo workflow:\n",
    "\n",
    "1. Create an Al fcc lattice\n",
    "2. Choose an interatomic potential\n",
    "3. Run MD calculations at 500 K and 0 pressure to equilibrate the system\n",
    "4. Calculate the mean squared displacement, therefore spring constants\n",
    "5. Switch system of interest to reference system\n",
    "6. Equilibrate the system\n",
    "7. Switch back to system of interest\n",
    "8. Find the work done\n",
    "9. Add to the free energy of the Einstein crystal"
   ]
  },
  {
   "cell_type": "markdown",
   "metadata": {},
   "source": [
    "As you can see, there are a number of steps that need to be done. This is where **calphy** and **pyiron** come in. These tools automatise all of the above steps and makes it easy to perform these calculations."
   ]
  },
  {
   "cell_type": "markdown",
   "metadata": {},
   "source": [
    "### <font style=\"color:#455e6c\" face=\"Helvetica\" > Free energy as function of temperature </font>\n",
    "\n",
    "<img src=\"img/cimg6.png\" width=\"600\">\n",
    "\n",
    "Gibb's free energy via reversible scaling at a constant pressure is given by,\n",
    "\n",
    "$ G(N,P,T_f) = G(N,P,T_i) + \\dfrac{3}{3}Nk_BT_f\\ln{\\dfrac{T_f}{T_i}} + \\dfrac{T_f}{T_i}\\Delta G $,\n",
    "\n",
    "Therefore, $G(N,P,T_f)$ can be computed from $G(N,P,T_i)$ via the free energy difference $\\Delta G$. \n",
    "\n",
    "Here, $\\Delta G = \\dfrac{1}{2}[W_{if}-W_{fi}$] --- (2)\n",
    "\n",
    "The reversible work is related to the internal energy $U$ by,\n",
    "$W = \\int_{1}^{\\lambda_f}<U> \\,d\\lambda$ --- (3)\n",
    "\n",
    "Using MD $W$ can be computed as:\n",
    "- equilibrate for time $t_{eq}$ in NPT ensemble\n",
    "- switch $\\lambda$ : $1->\\dfrac{T_f}{T_i}$ over time $t_{sw}$\n",
    "- calculate work $W_{if}$ from (3)\n",
    "- equilibrate for time $t_{eq}$ in NPT ensemble\n",
    "- switch $\\lambda$ : $\\dfrac{T_f}{T_i}->1$ over time $t_{sw}$\n",
    "- calculate work $W_{fi}$ from (3)."
   ]
  },
  {
   "cell_type": "markdown",
   "metadata": {},
   "source": [
    "### <font style=\"color:#455e6c\" face=\"Helvetica\" > Free energy for liquids </font>\n",
    "\n",
    "**How is the liquid prepared in this calculation?**\n",
    "\n",
    "- Start from the given structure\n",
    "- This structure is heated until it melts.\n",
    "- Melting of the structure is automatically detected by calphy\n",
    "- Once melted, it is equilibrated to the required temperature and pressure."
   ]
  },
  {
   "cell_type": "markdown",
   "metadata": {},
   "source": [
    "**What about the reference system for liquid?**\n",
    "\n",
    "The reference system for the Liquid structure is also different. In this case, the Uhlenbeck-Ford system is used as the reference system for liquid.\n",
    "\n",
    "The Uhlenbeck-Ford model is described by,\n",
    "\n",
    "$$\n",
    "E = - \\epsilon \\log(1-\\exp(-r^2/\\sigma^2))\n",
    "$$\n",
    "\n",
    "where,\n",
    "\n",
    "$$\n",
    "\\epsilon = p k_B T\n",
    "$$\n",
    "\n",
    "$\\epsilon$ and $\\sigma$ are energy and length scales, respectively.\n",
    "\n",
    "It is purely repulsive liquid model which does not undergo any phase transformations."
   ]
  },
  {
   "cell_type": "markdown",
   "metadata": {},
   "source": [
    "### <font style=\"color:#455e6c\" face=\"Helvetica\" > Comparison of melting temperature methods </font>"
   ]
  },
  {
   "cell_type": "markdown",
   "metadata": {},
   "source": [
    "<img src=\"img/tm_methods.png\" width=\"900\">"
   ]
  },
  {
   "cell_type": "markdown",
   "metadata": {},
   "source": [
    "### <font style=\"color:#455e6c\" face=\"Helvetica\" > Further reading </font>\n",
    "- [Menon et al. \"From electrons to phase diagrams with machine learning potentials using pyiron based automated workflows.\" npj Computational Materials 10, 2024](https://www.nature.com/articles/s41524-024-01441-0)\n",
    "- [Menon, Sarath, Yury Lysogorskiy, Jutta Rogal, and Ralf Drautz. “Automated Free-Energy Calculation from Atomistic Simulations.” Physical Review Materials 5, no. 10 (October 11, 2021): 103801.](https://doi.org/10.1103/PhysRevMaterials.5.103801).\n",
    "- [Freitas, Rodrigo, Mark Asta, and Maurice de Koning. “Nonequilibrium Free-Energy Calculation of Solids Using LAMMPS.” Computational Materials Science 112 (February 2016): 333–41.](https://doi.org/10.1016/j.commatsci.2015.10.050).\n",
    "- [Paula Leite, Rodolfo, and Maurice de Koning. “Nonequilibrium Free-Energy Calculations of Fluids Using LAMMPS.” Computational Materials Science 159 (March 2019): 316–26.](https://doi.org/10.1016/j.commatsci.2018.12.029).\n",
    "- [Koning, Maurice de, A. Antonelli, and Sidney Yip. “Optimized Free-Energy Evaluation Using a Single Reversible-Scaling Simulation.” Physical Review Letters 83, no. 20 (November 15, 1999): 3973–77.](https://doi.org/10.1103/PhysRevLett.83.3973).\n",
    "- [Paula Leite, Rodolfo, Rodrigo Freitas, Rodolfo Azevedo, and Maurice de Koning. “The Uhlenbeck-Ford Model: Exact Virial Coefficients and Application as a Reference System in Fluid-Phase Free-Energy Calculations.” The Journal of Chemical Physics 145, no. 19 (November 21, 2016): 194101.](https://doi.org/10.1063/1.4967775).\n",
    "\n"
   ]
  },
  {
   "cell_type": "markdown",
   "metadata": {},
   "source": [
    "### <font style=\"font-family:roboto;color:#455e6c\"> Software used in this notebook </font>  \n",
    "\n",
    "- [calphy](https://calphy.org)\n",
    "- [pyiron_atomistics](https://github.com/pyiron/pyiron_atomistics)\n",
    "- [LAMMPS](https://www.lammps.org/)\n",
    "- [pyiron](https://pyiron.org/)\n",
    "- [pyiron_workflow](https://github.com/pyiron/pyiron_workflow)"
   ]
  }
 ],
 "metadata": {
  "kernelspec": {
   "display_name": "Python 3 (ipykernel)",
   "language": "python",
   "name": "python3"
  },
  "language_info": {
   "codemirror_mode": {
    "name": "ipython",
    "version": 3
   },
   "file_extension": ".py",
   "mimetype": "text/x-python",
   "name": "python",
   "nbconvert_exporter": "python",
   "pygments_lexer": "ipython3",
   "version": "3.11.11"
  }
 },
 "nbformat": 4,
 "nbformat_minor": 4
}
