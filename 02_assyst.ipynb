{
 "cells": [
  {
   "cell_type": "markdown",
   "id": "28273a5f-16d3-4c95-a138-7a8ff9a4d620",
   "metadata": {},
   "source": [
    "# Prelude"
   ]
  },
  {
   "cell_type": "code",
   "execution_count": 1,
   "id": "6c3ae3c5-b427-44ee-a9e3-788cb9bbdeb5",
   "metadata": {},
   "outputs": [],
   "source": [
    "from pyiron_workflow import Workflow"
   ]
  },
  {
   "cell_type": "code",
   "execution_count": 2,
   "id": "5065f4fd-c198-4188-b509-8c61b3e638fc",
   "metadata": {},
   "outputs": [],
   "source": [
    "from pyironflow import PyironFlow"
   ]
  },
  {
   "cell_type": "code",
   "execution_count": 3,
   "id": "7ebd9e60-3455-4d8b-836d-fdac453919af",
   "metadata": {},
   "outputs": [],
   "source": [
    "from pyiron_nodes.atomistic.mlips.fitting.assyst.structures import ElementInput, Elements, ElementsTable"
   ]
  },
  {
   "cell_type": "markdown",
   "id": "3a7aadbe-98e4-45ee-95b3-136ec8442e35",
   "metadata": {},
   "source": [
    "# ASSYST"
   ]
  },
  {
   "cell_type": "markdown",
   "id": "e8bd7ab5-1ed6-46bf-b1f6-75be3fa7f862",
   "metadata": {},
   "source": [
    "## Background\n",
    "\n",
    "- Mg and Defects: https://journals.aps.org/prb/abstract/10.1103/PhysRevB.107.104103\n",
    "- Ternary Mg/Al/Ca: https://www.researchsquare.com/article/rs-4732459/v1"
   ]
  },
  {
   "cell_type": "markdown",
   "id": "ae44f460-aed5-4b99-8080-836f59e9b95b",
   "metadata": {},
   "source": [
    "## Goal\n",
    "\n",
    "What are we doing here?"
   ]
  },
  {
   "cell_type": "markdown",
   "id": "1200a58e-4da1-4554-a80c-921eebe8d276",
   "metadata": {},
   "source": [
    "## Constructing Element Samplings"
   ]
  },
  {
   "cell_type": "code",
   "execution_count": 4,
   "id": "5a8988cd-4e36-466d-819c-724f2632c672",
   "metadata": {},
   "outputs": [
    {
     "data": {
      "text/plain": [
       "Elements(atoms=({'Mg': 2}, {'Mg': 4}))"
      ]
     },
     "execution_count": 4,
     "metadata": {},
     "output_type": "execute_result"
    }
   ],
   "source": [
    "mg = Elements((\n",
    "    {'Mg': 2}, {'Mg': 4}\n",
    "))\n",
    "mg"
   ]
  },
  {
   "cell_type": "code",
   "execution_count": 5,
   "id": "ca135210-074d-4e99-9ad8-73b954e7eafd",
   "metadata": {},
   "outputs": [
    {
     "data": {
      "text/plain": [
       "Elements(atoms=({'Al': 1}, {'Al': 2}))"
      ]
     },
     "execution_count": 5,
     "metadata": {},
     "output_type": "execute_result"
    }
   ],
   "source": [
    "al = Elements((\n",
    "    {'Al': 1}, {'Al': 2}\n",
    "))\n",
    "al"
   ]
  },
  {
   "cell_type": "markdown",
   "id": "955fd11f-b36f-4775-a44b-1d6113df6a3b",
   "metadata": {},
   "source": [
    "Can be combined with standard python operations."
   ]
  },
  {
   "cell_type": "code",
   "execution_count": 6,
   "id": "fb72df67-1572-4f4c-b430-79729eaa6cdd",
   "metadata": {},
   "outputs": [
    {
     "data": {
      "text/plain": [
       "Elements(atoms=({'Mg': 2}, {'Mg': 4}, {'Al': 1}, {'Al': 2}))"
      ]
     },
     "execution_count": 6,
     "metadata": {},
     "output_type": "execute_result"
    }
   ],
   "source": [
    "mg + al"
   ]
  },
  {
   "cell_type": "code",
   "execution_count": 7,
   "id": "d4b021ad-75ce-44ab-b1a0-cb302529df17",
   "metadata": {},
   "outputs": [
    {
     "data": {
      "text/plain": [
       "Elements(atoms=({'Mg': 2, 'Al': 1}, {'Mg': 4, 'Al': 2}))"
      ]
     },
     "execution_count": 7,
     "metadata": {},
     "output_type": "execute_result"
    }
   ],
   "source": [
    "mg | al"
   ]
  },
  {
   "cell_type": "code",
   "execution_count": 14,
   "id": "78f9ff62-23e8-47fe-a481-517fb670e968",
   "metadata": {},
   "outputs": [
    {
     "data": {
      "text/plain": [
       "Elements(atoms=({'Mg': 2, 'Al': 1}, {'Mg': 2, 'Al': 2}, {'Mg': 4, 'Al': 1}, {'Mg': 4, 'Al': 2}))"
      ]
     },
     "execution_count": 14,
     "metadata": {},
     "output_type": "execute_result"
    }
   ],
   "source": [
    "mg * al"
   ]
  },
  {
   "cell_type": "markdown",
   "id": "5f55087e-2636-49d7-b64c-6888df0644df",
   "metadata": {},
   "source": [
    "Created by the ElementInput node and visualized by StoichiometryTable."
   ]
  },
  {
   "cell_type": "code",
   "execution_count": 9,
   "id": "485fb81b-8c79-4fd9-9ad7-33a458637b99",
   "metadata": {},
   "outputs": [],
   "source": [
    "wf = Workflow(\"ASSYST_Elements_Unary\")\n",
    "wf.Element = ElementInput(element=\"Mg\")\n",
    "wf.StoichiometryTable = ElementsTable(wf.Element)"
   ]
  },
  {
   "cell_type": "code",
   "execution_count": 10,
   "id": "61cbd22f-f50a-4be3-a886-07aecec423a9",
   "metadata": {},
   "outputs": [
    {
     "data": {
      "application/vnd.jupyter.widget-view+json": {
       "model_id": "f9460f9bfb724a8a8b051c0241126ee4",
       "version_major": 2,
       "version_minor": 0
      },
      "text/plain": [
       "HBox(children=(Accordion(children=(VBox(children=(Button(button_style='info', description='Refresh', style=But…"
      ]
     },
     "execution_count": 10,
     "metadata": {},
     "output_type": "execute_result"
    }
   ],
   "source": [
    "pf = PyironFlow([wf])\n",
    "pf.gui"
   ]
  },
  {
   "cell_type": "markdown",
   "id": "4bb8ce0c-7a29-41b3-86d4-8ba2a3d3d6c5",
   "metadata": {},
   "source": [
    "TASK: Build a small workflow that creates a table with Mg, Al and Ca so that:\n",
    "1. Mg:Ca is always 2:1\n",
    "2. combines it with 2-8 Al\n",
    "3. has at least 2 Ca in every composition\n",
    "4. contains at most 16 Atoms\n",
    "\n",
    "Check `utilities` for nodes to `Add()`, `Multiply()` or `Or()` objects together.\n",
    "\n",
    "Check `atomistic` -> `mlips` -> `fitting` -> `assyst` for nodes to `FilterSize()` or `ElementsTable()`"
   ]
  },
  {
   "cell_type": "code",
   "execution_count": 11,
   "id": "a11b8dcc-fdc7-4b3d-926b-8bf2d13d2ace",
   "metadata": {},
   "outputs": [
    {
     "data": {
      "application/vnd.jupyter.widget-view+json": {
       "model_id": "96074954f21147f4a0b54085ef82016f",
       "version_major": 2,
       "version_minor": 0
      },
      "text/plain": [
       "HBox(children=(Accordion(children=(VBox(children=(Button(button_style='info', description='Refresh', style=But…"
      ]
     },
     "execution_count": 11,
     "metadata": {},
     "output_type": "execute_result"
    }
   ],
   "source": [
    "pf = PyironFlow([])\n",
    "pf.gui"
   ]
  },
  {
   "cell_type": "code",
   "execution_count": 16,
   "id": "d9c02a68-cfb1-47df-a7e1-b3aa6ec0e406",
   "metadata": {},
   "outputs": [],
   "source": [
    "wf = Workflow(\"ASSYST_Elements_Combine\")"
   ]
  },
  {
   "cell_type": "code",
   "execution_count": null,
   "id": "ab1dea0e-4800-4e07-a76b-ce8fd330754e",
   "metadata": {},
   "outputs": [],
   "source": [
    "pf = PyironFlow([wf])\n",
    "pf.gui"
   ]
  },
  {
   "cell_type": "markdown",
   "id": "52c4d785-6ab4-498d-953d-98ddb9de6d45",
   "metadata": {},
   "source": [
    "## Full Workflow for a Small Structure Set"
   ]
  },
  {
   "cell_type": "code",
   "execution_count": null,
   "id": "6d2250bb-7559-4a8a-b9d5-0f0f8f4d5f45",
   "metadata": {},
   "outputs": [],
   "source": [
    "from pyiron_nodes.atomistic.mlips.fitting.assyst import make_assyst"
   ]
  },
  {
   "cell_type": "code",
   "execution_count": null,
   "id": "0e06786b-f181-438b-ae76-415237c431fb",
   "metadata": {},
   "outputs": [],
   "source": [
    "wf = make_assyst('ASSYST', 'Mg', 'Ca', 'Al', delete_existing_savefiles=True)"
   ]
  },
  {
   "cell_type": "code",
   "execution_count": null,
   "id": "225d71b4-eb58-4081-96e8-66bad2037b94",
   "metadata": {},
   "outputs": [],
   "source": [
    "%%time\n",
    "wf.run()"
   ]
  },
  {
   "cell_type": "code",
   "execution_count": null,
   "id": "749b66bb-c15a-4186-83b5-3b0336a60c31",
   "metadata": {},
   "outputs": [],
   "source": [
    "pf = PyironFlow([wf], flow_widget_ratio=.85)"
   ]
  },
  {
   "cell_type": "markdown",
   "id": "7a66fbb4-6eef-4eea-82c3-349c546fff01",
   "metadata": {},
   "source": [
    "HINT available models"
   ]
  },
  {
   "cell_type": "code",
   "execution_count": null,
   "id": "0926d95b-da68-41af-b86b-5e76e2304efe",
   "metadata": {},
   "outputs": [],
   "source": [
    "pf.gui"
   ]
  },
  {
   "cell_type": "markdown",
   "id": "bd79552b-5d77-46bd-a551-18df23b0d946",
   "metadata": {},
   "source": [
    "# Precomputed Full Workflow with Large Structure Set"
   ]
  }
 ],
 "metadata": {
  "kernelspec": {
   "display_name": "Python 3 (ipykernel)",
   "language": "python",
   "name": "python3"
  },
  "language_info": {
   "codemirror_mode": {
    "name": "ipython",
    "version": 3
   },
   "file_extension": ".py",
   "mimetype": "text/x-python",
   "name": "python",
   "nbconvert_exporter": "python",
   "pygments_lexer": "ipython3",
   "version": "3.11.11"
  }
 },
 "nbformat": 4,
 "nbformat_minor": 5
}
