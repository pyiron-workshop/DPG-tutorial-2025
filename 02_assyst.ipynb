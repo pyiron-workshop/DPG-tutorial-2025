{
 "cells": [
  {
   "cell_type": "markdown",
   "id": "28273a5f-16d3-4c95-a138-7a8ff9a4d620",
   "metadata": {},
   "source": [
    "# <font style=\"font-family:roboto;color:#455e6c\"> Generating datasets for Machine Learning Interatomic Potentials with the ASSYST method </font>  "
   ]
  },
  {
   "cell_type": "markdown",
   "id": "c2866da4-9bb7-4dd3-aefd-8e89fb4877f8",
   "metadata": {},
   "source": [
    "<div class=\"admonition note\" name=\"html-admonition\" style=\"background:#e3f2fd; padding: 10px\">\n",
    "<font style=\"font-family:roboto;color:#455e6c\"> <b> DPG Tutorial: Automated Workflows and Machine Learning for Materials Science Simulations </b> </font> </br>\n",
    "<font style=\"font-family:roboto;color:#455e6c\"> 16 March 2024 </font>\n",
    "</div>"
   ]
  },
  {
   "cell_type": "code",
   "execution_count": 2,
   "id": "6c3ae3c5-b427-44ee-a9e3-788cb9bbdeb5",
   "metadata": {},
   "outputs": [],
   "source": [
    "from pyiron_workflow import Workflow"
   ]
  },
  {
   "cell_type": "code",
   "execution_count": 3,
   "id": "5065f4fd-c198-4188-b509-8c61b3e638fc",
   "metadata": {},
   "outputs": [],
   "source": [
    "from pyironflow import PyironFlow"
   ]
  },
  {
   "cell_type": "code",
   "execution_count": 7,
   "id": "7ebd9e60-3455-4d8b-836d-fdac453919af",
   "metadata": {},
   "outputs": [],
   "source": [
    "from pyiron_nodes.atomistic.mlips.fitting.assyst import make_assyst"
   ]
  },
  {
   "cell_type": "code",
   "execution_count": 8,
   "id": "9daaabd2-584a-4345-b054-49d73c5be85b",
   "metadata": {},
   "outputs": [],
   "source": [
    "from pyiron_nodes.atomistic.mlips.fitting.assyst.structures import ElementInput, Elements, ElementsTable"
   ]
  },
  {
   "cell_type": "markdown",
   "id": "e8bd7ab5-1ed6-46bf-b1f6-75be3fa7f862",
   "metadata": {},
   "source": [
    "## <font style=\"font-family:roboto;color:#455e6c\"> Background </font> \n",
    "\n",
    "*Automated Small SYmetric Structure Training* or ASSYST is a method to generate training data for machine learning potentials.\n",
    "The key idea is to use small structures to automatically explore structurally and chemically diverse atomic environments and provide training data around the energetically most favorable ones.\n",
    "\n",
    "### <font style=\"font-family:roboto;color:#455e6c\"> Workflow Overview </font>\n",
    "\n",
    "![image](img/AssystSchematic.svg)\n",
    "\n",
    "### <font style=\"font-family:roboto;color:#455e6c\"> Transferability </font>\n",
    "\n",
    "ASSYST trained potentials describe also structures that they are not directly trained on, such as point and planar defects.\n",
    "\n",
    "![image](img/Fig8_MTP24_2d0_8d2_DefectsManual.png)\n",
    "\n",
    "Liquid state is also well described and potentials are stable for long running thermodynamic integrations.\n",
    "\n",
    "![image](img/Fig11_MgCa.png)\n",
    "\n",
    "This phase diagram is our goal for today!\n",
    "\n",
    "### <font style=\"font-family:roboto;color:#455e6c\"> Literature </font>\n",
    "\n",
    "- Mg and Defects: https://journals.aps.org/prb/abstract/10.1103/PhysRevB.107.104103\n",
    "- Ternary Mg/Al/Ca: https://www.researchsquare.com/article/rs-4732459/v1"
   ]
  },
  {
   "cell_type": "markdown",
   "id": "1200a58e-4da1-4554-a80c-921eebe8d276",
   "metadata": {},
   "source": [
    "## <font style=\"font-family:roboto;color:#455e6c\"> Constructing element combinations </font> \n",
    "\n",
    "The first step in the ASSYST workflow is to decide which chemical space to cover and how densely.\n",
    "Increasing the new number of total atoms allows you to generate more and more complex structures\n",
    "and also sample the chemical space more densely.\n",
    "\n",
    "Here's an example for a ternary system, where we sampled the unaries with ASSYST datasets of 1-10 Atoms and the binaries and ternaries with 2-8 or 3-8 Atoms, respectively.\n",
    "\n",
    "![img](img/Fig3_Everything_Conc_Plot.png)\n",
    "\n",
    "Log-histogram of composition of a final training set."
   ]
  },
  {
   "cell_type": "markdown",
   "id": "d4893122-6516-4ae4-913e-a1b23899f7c5",
   "metadata": {},
   "source": [
    "`Elements` wraps a list of compositions at which we will sample random crystals."
   ]
  },
  {
   "cell_type": "code",
   "execution_count": 28,
   "id": "5a8988cd-4e36-466d-819c-724f2632c672",
   "metadata": {},
   "outputs": [
    {
     "data": {
      "text/plain": [
       "Elements(atoms=({'Mg': 2}, {'Mg': 4}))"
      ]
     },
     "execution_count": 28,
     "metadata": {},
     "output_type": "execute_result"
    }
   ],
   "source": [
    "mg = Elements((\n",
    "    {'Mg': 2}, {'Mg': 4}\n",
    "))\n",
    "mg"
   ]
  },
  {
   "cell_type": "code",
   "execution_count": 29,
   "id": "ca135210-074d-4e99-9ad8-73b954e7eafd",
   "metadata": {},
   "outputs": [
    {
     "data": {
      "text/plain": [
       "Elements(atoms=({'Al': 1}, {'Al': 2}))"
      ]
     },
     "execution_count": 29,
     "metadata": {},
     "output_type": "execute_result"
    }
   ],
   "source": [
    "al = Elements((\n",
    "    {'Al': 1}, {'Al': 2}\n",
    "))\n",
    "al"
   ]
  },
  {
   "cell_type": "markdown",
   "id": "955fd11f-b36f-4775-a44b-1d6113df6a3b",
   "metadata": {},
   "source": [
    "Can be combined with standard python operations."
   ]
  },
  {
   "cell_type": "code",
   "execution_count": 30,
   "id": "fb72df67-1572-4f4c-b430-79729eaa6cdd",
   "metadata": {},
   "outputs": [
    {
     "data": {
      "text/plain": [
       "Elements(atoms=({'Mg': 2}, {'Mg': 4}, {'Al': 1}, {'Al': 2}))"
      ]
     },
     "execution_count": 30,
     "metadata": {},
     "output_type": "execute_result"
    }
   ],
   "source": [
    "mg + al"
   ]
  },
  {
   "cell_type": "code",
   "execution_count": 31,
   "id": "d4b021ad-75ce-44ab-b1a0-cb302529df17",
   "metadata": {},
   "outputs": [
    {
     "data": {
      "text/plain": [
       "Elements(atoms=({'Mg': 2, 'Al': 1}, {'Mg': 4, 'Al': 2}))"
      ]
     },
     "execution_count": 31,
     "metadata": {},
     "output_type": "execute_result"
    }
   ],
   "source": [
    "mg | al"
   ]
  },
  {
   "cell_type": "code",
   "execution_count": 32,
   "id": "78f9ff62-23e8-47fe-a481-517fb670e968",
   "metadata": {},
   "outputs": [
    {
     "data": {
      "text/plain": [
       "Elements(atoms=({'Mg': 2, 'Al': 1}, {'Mg': 2, 'Al': 2}, {'Mg': 4, 'Al': 1}, {'Mg': 4, 'Al': 2}))"
      ]
     },
     "execution_count": 32,
     "metadata": {},
     "output_type": "execute_result"
    }
   ],
   "source": [
    "mg * al"
   ]
  },
  {
   "cell_type": "markdown",
   "id": "5f55087e-2636-49d7-b64c-6888df0644df",
   "metadata": {},
   "source": [
    "Created by the ElementInput node and visualized by StoichiometryTable."
   ]
  },
  {
   "cell_type": "code",
   "execution_count": 33,
   "id": "485fb81b-8c79-4fd9-9ad7-33a458637b99",
   "metadata": {},
   "outputs": [],
   "source": [
    "wf = Workflow(\"ASSYST_Elements_Unary\")\n",
    "wf.Element = ElementInput(element=\"Mg\")\n",
    "wf.ElementsTable = ElementsTable(wf.Element)"
   ]
  },
  {
   "cell_type": "code",
   "execution_count": 34,
   "id": "61cbd22f-f50a-4be3-a886-07aecec423a9",
   "metadata": {},
   "outputs": [
    {
     "data": {
      "application/vnd.jupyter.widget-view+json": {
       "model_id": "564eab2764b34d67922a9d14e0c6ee07",
       "version_major": 2,
       "version_minor": 0
      },
      "text/plain": [
       "HBox(children=(Accordion(children=(VBox(children=(Button(button_style='info', description='Refresh', style=But…"
      ]
     },
     "execution_count": 34,
     "metadata": {},
     "output_type": "execute_result"
    }
   ],
   "source": [
    "pf = PyironFlow([wf])\n",
    "pf.gui"
   ]
  },
  {
   "cell_type": "markdown",
   "id": "4bb8ce0c-7a29-41b3-86d4-8ba2a3d3d6c5",
   "metadata": {},
   "source": [
    "TASK: Build a small workflow that creates a table with Mg, Al and Ca so that:\n",
    "1. Mg:Ca is always 2:1\n",
    "2. combines it with 2-8 Al\n",
    "3. has at least 2 Ca in every composition\n",
    "4. contains at most 16 Atoms\n",
    "\n",
    "Check `utilities` for nodes to `Add()`, `Multiply()` or `Or()` objects together.\n",
    "\n",
    "Check `atomistic` -> `mlips` -> `fitting` -> `assyst` for nodes to `FilterSize()` or `ElementsTable()`"
   ]
  },
  {
   "cell_type": "code",
   "execution_count": null,
   "id": "a11b8dcc-fdc7-4b3d-926b-8bf2d13d2ace",
   "metadata": {},
   "outputs": [],
   "source": [
    "pf = PyironFlow([])\n",
    "pf.gui"
   ]
  },
  {
   "cell_type": "markdown",
   "id": "a0bf5c04-b6a7-44e6-9455-f98686dddc9e",
   "metadata": {},
   "source": [
    "Load this workflow for the solution."
   ]
  },
  {
   "cell_type": "code",
   "execution_count": 26,
   "id": "d9c02a68-cfb1-47df-a7e1-b3aa6ec0e406",
   "metadata": {},
   "outputs": [],
   "source": [
    "wf = Workflow(\"ASSYST_Elements_Combine\")"
   ]
  },
  {
   "cell_type": "code",
   "execution_count": 27,
   "id": "ab1dea0e-4800-4e07-a76b-ce8fd330754e",
   "metadata": {},
   "outputs": [
    {
     "data": {
      "application/vnd.jupyter.widget-view+json": {
       "model_id": "509a1ea81f35438ea857d023ec7115b8",
       "version_major": 2,
       "version_minor": 0
      },
      "text/plain": [
       "HBox(children=(Accordion(children=(VBox(children=(Button(button_style='info', description='Refresh', style=But…"
      ]
     },
     "execution_count": 27,
     "metadata": {},
     "output_type": "execute_result"
    }
   ],
   "source": [
    "pf = PyironFlow([wf])\n",
    "pf.gui"
   ]
  },
  {
   "cell_type": "markdown",
   "id": "52c4d785-6ab4-498d-953d-98ddb9de6d45",
   "metadata": {},
   "source": [
    "## <font style=\"font-family:roboto;color:#455e6c\"> Full Workflow for a Small Structure Set </font> \n",
    "\n",
    "This demonstration uses the GRACE universal force fields for the relaxation steps.\n",
    "Usually we would run them in low convergence DFT."
   ]
  },
  {
   "cell_type": "code",
   "execution_count": 39,
   "id": "6d2250bb-7559-4a8a-b9d5-0f0f8f4d5f45",
   "metadata": {},
   "outputs": [],
   "source": [
    "from pyiron_nodes.atomistic.mlips.fitting.assyst import make_assyst"
   ]
  },
  {
   "cell_type": "code",
   "execution_count": 40,
   "id": "0e06786b-f181-438b-ae76-415237c431fb",
   "metadata": {},
   "outputs": [],
   "source": [
    "wf = make_assyst('ASSYST', 'Mg', 'Ca', 'Al', delete_existing_savefiles=True)"
   ]
  },
  {
   "cell_type": "code",
   "execution_count": null,
   "id": "749b66bb-c15a-4186-83b5-3b0336a60c31",
   "metadata": {},
   "outputs": [],
   "source": [
    "pf = PyironFlow([wf], flow_widget_ratio=.85)"
   ]
  },
  {
   "cell_type": "code",
   "execution_count": null,
   "id": "0926d95b-da68-41af-b86b-5e76e2304efe",
   "metadata": {},
   "outputs": [],
   "source": [
    "pf.gui"
   ]
  },
  {
   "cell_type": "markdown",
   "id": "bd79552b-5d77-46bd-a551-18df23b0d946",
   "metadata": {},
   "source": [
    "## <font style=\"font-family:roboto;color:#455e6c\"> Precomputed Full Workflow with Large Structure Set </font> \n",
    "\n",
    "This is the same workflow, but pre-run with realistic input for a Unary system.\n",
    "It contains ~10k structures and you can attach plotting functions at various nodes to view them."
   ]
  },
  {
   "cell_type": "code",
   "execution_count": 36,
   "id": "d91065b0-4637-4591-82e3-6e85c1883ce0",
   "metadata": {},
   "outputs": [],
   "source": [
    "wf = make_assyst('ASSYST_Mg_FULL', 'Mg', min_atoms=1, max_atoms=10, max_structures=None)"
   ]
  },
  {
   "cell_type": "code",
   "execution_count": 37,
   "id": "3db268af-8ad5-4876-a03f-76a26a11096b",
   "metadata": {},
   "outputs": [],
   "source": [
    "pf = PyironFlow([wf], flow_widget_ratio=.85)"
   ]
  },
  {
   "cell_type": "code",
   "execution_count": 38,
   "id": "7e93c4fc-bc11-4559-b0fd-9b9ecbce1723",
   "metadata": {},
   "outputs": [
    {
     "data": {
      "application/vnd.jupyter.widget-view+json": {
       "model_id": "bc9499960d884ef080ef998ba2de25cc",
       "version_major": 2,
       "version_minor": 0
      },
      "text/plain": [
       "HBox(children=(Accordion(children=(VBox(children=(Button(button_style='info', description='Refresh', style=But…"
      ]
     },
     "execution_count": 38,
     "metadata": {},
     "output_type": "execute_result"
    }
   ],
   "source": [
    "pf.gui"
   ]
  }
 ],
 "metadata": {
  "kernelspec": {
   "display_name": "Python 3 (ipykernel)",
   "language": "python",
   "name": "python3"
  },
  "language_info": {
   "codemirror_mode": {
    "name": "ipython",
    "version": 3
   },
   "file_extension": ".py",
   "mimetype": "text/x-python",
   "name": "python",
   "nbconvert_exporter": "python",
   "pygments_lexer": "ipython3",
   "version": "3.11.11"
  }
 },
 "nbformat": 4,
 "nbformat_minor": 5
}
