{
 "cells": [
  {
   "cell_type": "markdown",
   "id": "6d8ee316-a15c-4df6-88a2-25d4d2ffb45b",
   "metadata": {},
   "source": [
    "## <font style=\"font-family:roboto;color:#455e6c\"> Introduction to Workflows </font>  "
   ]
  },
  {
   "cell_type": "markdown",
   "id": "29a32ec4-4e12-40f9-b972-b00e7a9a70c6",
   "metadata": {},
   "source": [
    "<div class=\"admonition note\" name=\"html-admonition\" style=\"background:#e3f2fd; padding: 10px\">\n",
    "<font style=\"font-family:roboto;color:#455e6c\"> <b> DPG Tutorial: Automated Workflows and Machine Learning for Materials Science Simulations </b> </font> </br>\n",
    "<font style=\"font-family:roboto;color:#455e6c\"> 16 March 2024 </font>\n",
    "</div>"
   ]
  },
  {
   "cell_type": "markdown",
   "id": "2c099182-ce85-4bc9-995f-4cf513963793",
   "metadata": {},
   "source": [
    "We will use [pyiron_workflow](https://github.com/pyiron/pyiron_workflow), a framework for constructing workflows as computational graphs from simple python functions, to create a simple workflow for data analysis. Coverting your script to a workflow that you can use a number of powerful features that pyiron provides, such as data management, job management, at the same time ensuring that they are fully reproducible.\n",
    "\n",
    "In this example, we will use a very common use case in Materials Science, which is to use data from a [tensile test](https://en.wikipedia.org/wiki/Tensile_testing) to calculate the [Young's modulus](https://en.wikipedia.org/wiki/Young%27s_modulus).\n",
    "\n",
    "\n",
    "\n",
    "We start from a datafile in csv format. The file containes data from a tensile test of typical S355 (material number: 1.0577) structural steel (designation of steel according to DIN EN 10025-2:2019). The data were generated in the [Bundesanstalt für Materialforschung und -prüfung (BAM)](https://zenodo.org/communities/bam) in the framework of the digitization project [Innovationplatform MaterialDigital (PMD)](https://www.materialdigital.de/) which, amongst other activities, aims to store data in a semantically and machine understandable way. \n",
    "\n",
    "### References\n",
    "\n",
    "- Schilling, M., Glaubitz, S., Matzak, K., Rehmer, B., & Skrotzki, B. (2022). Full dataset of several mechanical tests on an S355 steel sheet as reference data for digital representations (1.0.0) [Data set](https://doi.org/10.5281/zenodo.6778336)"
   ]
  },
  {
   "cell_type": "markdown",
   "id": "8d7e6fa2-833a-46c1-8f64-85552e4ed15e",
   "metadata": {},
   "source": [
    "Let's start with the visualisation of how such a workflow would look like:"
   ]
  },
  {
   "cell_type": "markdown",
   "id": "e1a7f5e3-ce75-4ca5-babe-be740d927b1f",
   "metadata": {},
   "source": [
    "<img src=\"img/workflow-dpg.png\" width=\"700\">"
   ]
  },
  {
   "cell_type": "markdown",
   "id": "cc2d9b74-8883-42b5-869c-18449d792d89",
   "metadata": {},
   "source": [
    "In the tensile test experiment, the force (load) and elongation values are recorded, and saved in a csv file which forms the dataset. We would like to read in this dataset, and convert the load and elongation to stress and strain. Then we plot the results, and calculate a the Young's modulus, which is the slope of the linear, elastic part of the stress-strain curve. Your calculation could depend on the value of this strain-cutoff that is used, which is something we will explore. "
   ]
  },
  {
   "cell_type": "markdown",
   "id": "16a6136f-06a8-47e4-b9d3-a32b47edc7a5",
   "metadata": {},
   "source": [
    "<div class=\"admonition note\" name=\"html-admonition\" style=\"background: #FFEDD1; padding: 10px\">\n",
    "<p class=\"title\"><b>Note</b></p>\n",
    "Note that the stress and strain used in this notebook are actually <a href=\"https://en.wikipedia.org/wiki/Stress%E2%80%93strain_curve\">engineering stress and strain</a>\n",
    "</div>"
   ]
  },
  {
   "cell_type": "markdown",
   "id": "ccc47a1d-2f95-4b0f-ac4a-827b90b65cc8",
   "metadata": {},
   "source": [
    "To create such a workflow, we start by defining some functions which does each of this step. We will use 'pyiron_workflow' to compose them into a workflow, which can then be easily visualised and executed."
   ]
  },
  {
   "cell_type": "markdown",
   "id": "3cc4f184-4b08-4e39-83f0-8a74f90efe02",
   "metadata": {},
   "source": [
    "Before we move on to the actual workflow, a crash course on Jupyter notebooks."
   ]
  },
  {
   "cell_type": "markdown",
   "id": "795783aa-7265-417d-9d84-7e9fb76b7a86",
   "metadata": {},
   "source": [
    "### <font style=\"font-family:roboto;color:#455e6c\"> Jupyter Crash Course </font>  \n",
    "\n",
    "1. Select cells by clicking on them.\n",
    "2. Navigate through with `up` and `down` keys (or `k` and `j` for you vimmers).\n",
    "3. Press Enter to edit a cell.\n",
    "4. Press Shift-Enter to execute it.\n",
    "5. Create new cells above or below the current one with `a` or `b`.\n",
    "6. Copy, cut and paste them with `c`, `x` and `v`.\n",
    "7. Press `m` to turn a cell into a markdown cell.\n",
    "8. See the `Help` in the toolbar for more."
   ]
  },
  {
   "cell_type": "code",
   "execution_count": null,
   "id": "83266fc3-f8e2-48a5-8f99-50468e52d641",
   "metadata": {},
   "outputs": [],
   "source": [
    "from pyiron_workflow import as_function_node, as_macro_node, as_dataclass_node, Workflow"
   ]
  },
  {
   "cell_type": "markdown",
   "id": "c788296f-e133-4b83-821c-b0fc8b6380e3",
   "metadata": {},
   "source": [
    "### <font style=\"font-family:roboto;color:#455e6c\"> Reading in the experimental results </font>  "
   ]
  },
  {
   "cell_type": "markdown",
   "id": "74cbc6bd-b4cc-4406-9ce4-e29301994e59",
   "metadata": {},
   "source": [
    "This function reads in the csv file:"
   ]
  },
  {
   "cell_type": "code",
   "execution_count": null,
   "id": "bf20314d-64fa-4951-a738-b1318187c5ef",
   "metadata": {},
   "outputs": [],
   "source": [
    "@as_function_node(\"csv\")\n",
    "def ReadCSV(filename: str, header: list = [0, 1], decimal: str = \",\", delimiter: str = \";\"):\n",
    "    import pandas as pd\n",
    "    return pd.read_csv(filename, delimiter=delimiter, header=header, decimal=decimal)"
   ]
  },
  {
   "cell_type": "markdown",
   "id": "4432b34c-031d-4a9e-b8fe-f3cadda2c451",
   "metadata": {},
   "source": [
    "Then a function to convert the load to stress:"
   ]
  },
  {
   "cell_type": "code",
   "execution_count": null,
   "id": "2e757405-5ecb-4ff3-8c60-7c9b18854819",
   "metadata": {},
   "outputs": [],
   "source": [
    "@as_function_node\n",
    "def CovertLoadToStress(df, area):\n",
    "    \"\"\"\n",
    "    Read in csv file, convert load to stress\n",
    "    \"\"\"\n",
    "    kN_to_N = 0.001  # convert kiloNewton to Newton\n",
    "    mm2_to_m2 = 1e-6  # convert square millimeters to square meters\n",
    "    df[\"Stress\"] = df[\"Load\"] * kN_to_N / (area * mm2_to_m2)\n",
    "    #although it says extensometer elongation, the values are in percent! \n",
    "    strain = df[\"Extensometer elongation\"].values.flatten()\n",
    "    #subtract the offset from the dataset\n",
    "    strain = strain - strain[0]\n",
    "    stress = df[\"Stress\"].values.flatten()\n",
    "    return stress, strain"
   ]
  },
  {
   "cell_type": "markdown",
   "id": "bb44386d-1695-4788-93e2-2e628487e7b2",
   "metadata": {},
   "source": [
    "### <font style=\"font-family:roboto;color:#455e6c\"> Calculate Young's modulus </font>  "
   ]
  },
  {
   "cell_type": "markdown",
   "id": "ecc92b49-38c4-4823-a5c9-d91d77bce117",
   "metadata": {},
   "source": [
    "The stress and strain values, which are outputs of the previous function is used for a linear fit in this function, and the slope is calculated. The slope is the Young's modulus. The calculated value of Young's modulus will depend on the `strain_cutoff` parameter."
   ]
  },
  {
   "cell_type": "code",
   "execution_count": null,
   "id": "2d807e2f-489c-4e89-8c78-788bc54deb61",
   "metadata": {},
   "outputs": [],
   "source": [
    "@as_function_node\n",
    "def CalculateYoungsModulus(stress, strain, strain_cutoff=0.2):\n",
    "    import numpy as np\n",
    "    percent_to_fraction = 100  # convert\n",
    "    MPa_to_GPa = 1 / 1000  # convert MPa to GPa\n",
    "    arg = np.argsort(np.abs(np.array(strain) - strain_cutoff))[0]\n",
    "    fit = np.polyfit(strain[:arg], stress[:arg], 1)\n",
    "    youngs_modulus = fit[0] * percent_to_fraction * MPa_to_GPa\n",
    "    return youngs_modulus"
   ]
  },
  {
   "cell_type": "markdown",
   "id": "44b6c24d-1aeb-4930-97df-9cea0b383202",
   "metadata": {},
   "source": [
    "### <font style=\"font-family:roboto;color:#455e6c\"> Plotting the results </font>  "
   ]
  },
  {
   "cell_type": "markdown",
   "id": "d1eeb917-69bc-40db-a5fe-d604e1565e24",
   "metadata": {},
   "source": [
    "This function plots the stress and strain."
   ]
  },
  {
   "cell_type": "code",
   "execution_count": null,
   "id": "8d77dfad-c03d-487b-9635-374bf30c2e31",
   "metadata": {},
   "outputs": [],
   "source": [
    "@as_function_node\n",
    "def Plot(stress, strain, format=\"-\"):\n",
    "    import matplotlib.pyplot as plt\n",
    "    plt.plot(strain, stress, format)\n",
    "    plt.xlabel(\"Strain [%]\")\n",
    "    plt.ylabel(\"Stress [MPa]\")\n",
    "    return 1"
   ]
  },
  {
   "cell_type": "markdown",
   "id": "6487406a-edfd-40cc-924b-94c955dd78fc",
   "metadata": {},
   "source": [
    "### <font style=\"font-family:roboto;color:#455e6c\"> Creating a workflow </font>  "
   ]
  },
  {
   "cell_type": "markdown",
   "id": "a2d82be1-7ead-4318-9ce0-64d386615f21",
   "metadata": {},
   "source": [
    "Now we can combine all the functions together to compose a workflow. Each function corresponds to a step in the workflow and their inputs and outputs are linked."
   ]
  },
  {
   "cell_type": "code",
   "execution_count": null,
   "id": "cc1cf558-0584-4651-b1c1-3ed13cb0ba92",
   "metadata": {},
   "outputs": [],
   "source": [
    "wf = Workflow(\"youngs_modulus\")\n",
    "wf.read_csv =ReadCSV('data/dataset_1.csv')\n",
    "wf.stresses = CovertLoadToStress(wf.read_csv, 120)\n",
    "\n",
    "wf.youngs_modulus = CalculateYoungsModulus(\n",
    "    stress=wf.stresses.outputs.stress,\n",
    "    strain=wf.stresses.outputs.strain,\n",
    ")\n",
    "\n",
    "wf.plot = Plot(\n",
    "    stress=wf.stresses.outputs.stress,\n",
    "    strain=wf.stresses.outputs.strain,\n",
    ")"
   ]
  },
  {
   "cell_type": "markdown",
   "id": "96034a12-01ea-477e-861f-983041698bdc",
   "metadata": {},
   "source": [
    "Now we execute the workflow"
   ]
  },
  {
   "cell_type": "code",
   "execution_count": null,
   "id": "de64ff22-9857-412b-a5d0-a85e77e7af08",
   "metadata": {},
   "outputs": [],
   "source": [
    "wf.run()"
   ]
  },
  {
   "cell_type": "markdown",
   "id": "9526cfed-b423-4fbc-837a-f7102c860583",
   "metadata": {},
   "source": [
    "We can also visualise the workflow. The visualisation shows the different steps, and their inputs and outputs and how they are linked together."
   ]
  },
  {
   "cell_type": "code",
   "execution_count": null,
   "id": "7f54a96c-2d7c-4041-9f41-3fec532ecec0",
   "metadata": {},
   "outputs": [],
   "source": [
    "wf.draw(size=(12, 15))"
   ]
  },
  {
   "cell_type": "markdown",
   "id": "4f8dbff8-42ed-426e-854c-cf7395acbc40",
   "metadata": {},
   "source": [
    "### <font style=\"font-family:roboto;color:#455e6c\"> A graphical user interface for running workflows </font>  "
   ]
  },
  {
   "cell_type": "markdown",
   "id": "a57e8a11-c520-46a0-bbd1-b6b7848c97b5",
   "metadata": {},
   "source": [
    "We can use use the tool [pyironflow](https://github.com/pyiron/pyironflow) to visually compose and execute the workflow."
   ]
  },
  {
   "cell_type": "code",
   "execution_count": null,
   "id": "d73874f2-68e8-4204-99fe-91c999cd1d2b",
   "metadata": {},
   "outputs": [],
   "source": [
    "from pyironflow import PyironFlow"
   ]
  },
  {
   "cell_type": "code",
   "execution_count": null,
   "id": "19ae3972-72c4-4844-9687-b1498455b470",
   "metadata": {
    "scrolled": true
   },
   "outputs": [],
   "source": [
    "pf = PyironFlow()\n",
    "pf.gui"
   ]
  },
  {
   "cell_type": "markdown",
   "id": "e1c8a79b-13ba-445d-a72d-7b051cbf7c9b",
   "metadata": {},
   "source": [
    "We can also see the saved workflow"
   ]
  },
  {
   "cell_type": "code",
   "execution_count": null,
   "id": "ea33da69-584f-42d2-8295-e572ce56da5b",
   "metadata": {},
   "outputs": [],
   "source": [
    "pf = PyironFlow([Workflow('tensile_example')])\n",
    "pf.gui"
   ]
  },
  {
   "cell_type": "markdown",
   "id": "6831dfd9-3011-4fa0-bf48-b6aea4c91b9a",
   "metadata": {},
   "source": [
    "<div class=\"admonition note\" name=\"html-admonition\" style=\"background: #FFEDD1; padding: 10px\">\n",
    "<p class=\"title\"><b>Note</b></p>\n",
    "As we have seen, the ranges of stress and strain have to chosen carefully. In practice, this is done by calculating <a href=\"https://materion.com/-/media/files/alloy/newsletters/technical-tidbits/issue-no-47---yield-strength-and-other-near-elastic-properties.pdf\">R<sub>P0,2</sub> yield stress</a>\n",
    "</div>"
   ]
  },
  {
   "cell_type": "markdown",
   "id": "05b115ae-446d-40cf-bc76-2e626790a550",
   "metadata": {
    "jp-MarkdownHeadingCollapsed": true
   },
   "source": [
    "### <font style=\"font-family:roboto;color:#455e6c\"> Software used in this notebook </font>  \n",
    "\n",
    "- [pyiron](https://pyiron.org/)\n",
    "- [pyiron_workflow](https://github.com/pyiron/pyiron_workflow)"
   ]
  }
 ],
 "metadata": {
  "kernelspec": {
   "display_name": "Python 3 (ipykernel)",
   "language": "python",
   "name": "python3"
  },
  "language_info": {
   "codemirror_mode": {
    "name": "ipython",
    "version": 3
   },
   "file_extension": ".py",
   "mimetype": "text/x-python",
   "name": "python",
   "nbconvert_exporter": "python",
   "pygments_lexer": "ipython3",
   "version": "3.11.11"
  }
 },
 "nbformat": 4,
 "nbformat_minor": 5
}
