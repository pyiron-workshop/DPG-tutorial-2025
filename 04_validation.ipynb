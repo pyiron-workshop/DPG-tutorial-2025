{
 "cells": [
  {
   "cell_type": "markdown",
   "id": "de12b7dc-cc05-4568-b16c-3eb3929a82fa",
   "metadata": {},
   "source": [
    "# <font style=\"font-family:roboto;color:#455e6c\"> Validation of interatomic potentials </font>  "
   ]
  },
  {
   "cell_type": "markdown",
   "id": "6c279a4e-d393-444c-8a7d-615f118c2414",
   "metadata": {},
   "source": [
    "<div class=\"admonition note\" name=\"html-admonition\" style=\"background:#e3f2fd; padding: 10px\">\n",
    "<font style=\"font-family:roboto;color:#455e6c\"> <b> DPG Tutorial: Automated Workflows and Machine Learning for Materials Science Simulations </b> </font> </br>\n",
    "<font style=\"font-family:roboto;color:#455e6c\"> 16 March 2024 </font>\n",
    "</div>"
   ]
  },
  {
   "cell_type": "markdown",
   "id": "a76829c0-347a-40f4-96c5-973201e21b9b",
   "metadata": {},
   "source": [
    "To ensure that our fitted ACE potentials provide reliable predictions, it is crucial to validate them against reference data from DFT calculations or experiments. In this notebook, we will use previously fitted ACE potential(s) to compute key properties—namely, energies, equilibrium volumes, and bulk moduli—for various phases. \n",
    "\n",
    "This validation step corresponds to Level 2 validation from the schematic, and is essential to confirm that the potentials capture the underlying physics accurately and can be confidently used for further simulations and analysis.\n"
   ]
  },
  {
   "cell_type": "markdown",
   "id": "73119159-bad8-4093-be0c-2d463369e520",
   "metadata": {},
   "source": [
    "<img src=\"img/validation_schematic.png\" alt=\"Validation schematic\" width=\"700\"/>"
   ]
  },
  {
   "cell_type": "code",
   "execution_count": null,
   "id": "1a0ce6b7-e0d6-4a3c-84fb-fdc870b6bb62",
   "metadata": {},
   "outputs": [],
   "source": [
    "import matplotlib.pyplot as plt\n",
    "import numpy as np\n",
    "\n",
    "from pyiron_nodes.atomistic.properties.murnaghan import * "
   ]
  },
  {
   "cell_type": "markdown",
   "id": "6fb283c8-1365-4583-b94c-8c9e0034f3ad",
   "metadata": {},
   "source": [
    "### <font style=\"font-family:roboto;color:#455e6c\"> ACE and GRACE Calculators </font>  \n",
    "\n",
    "For simulations involving ACE and GRACE potentials, having ASE-compatible calculators is essential. In our workflow, these calculators are implemented as Pyiron nodes."
   ]
  },
  {
   "cell_type": "code",
   "execution_count": null,
   "id": "5b3971a4-0d4b-48ed-9812-722d7a0dc8e2",
   "metadata": {},
   "outputs": [],
   "source": [
    "from pyiron_nodes.atomistic.mlips.calculator.ace import Ace\n",
    "\n",
    "# provide the file path to the ACE potential\n",
    "potential_path = \"potentials/Better_potential.yace\"\n",
    "potential_path = \"potentials/Ca_Mg_linear_potential.yace\"\n",
    "\n",
    "\n",
    "ace = Ace(potential_path)"
   ]
  },
  {
   "cell_type": "markdown",
   "id": "dffd823b-3df6-4467-abe8-6745874a91f8",
   "metadata": {},
   "source": [
    "Several pre-fitted GRACE foundation models are available for use. You can choose from the following options:\n",
    "\n",
    "- `MP_GRACE_1L_r6_4Nov2024`\n",
    "- `MP_GRACE_1L_r6_07Nov2024`\n",
    "- `MP_GRACE_2L_r6_11Nov2024`\n",
    "- `MP_GRACE_2L_r5_4Nov2024`\n",
    "- `MP_GRACE_2L_r5_07Nov2024`\n",
    "- `GRACE_2L_OAM_28Jan25`\n",
    "- `GRACE-1L-OAM_2Feb25`\n",
    "\n",
    "For further details about the GRACE foundation models, please refer to the [Grace documentation](https://gracemaker.readthedocs.io/en/latest/gracemaker/foundation/).\n",
    "\n",
    "Note that you only need to provide the model string as an argument—the associated potential files will be downloaded at runtime.\n"
   ]
  },
  {
   "cell_type": "code",
   "execution_count": null,
   "id": "77cfeeb9-38d6-4f5f-8b63-e95ef2c15a83",
   "metadata": {},
   "outputs": [],
   "source": [
    "from pyiron_nodes.atomistic.mlips.calculator.grace import Grace\n",
    "\n",
    "\n",
    "grace = Grace('GRACE-FS-OMAT')"
   ]
  },
  {
   "cell_type": "code",
   "execution_count": null,
   "id": "4e2c6a08-9bee-44b8-8103-05cd679f844f",
   "metadata": {},
   "outputs": [],
   "source": [
    "# set one of ace or grace calcs as the default calculator for further calculations\n",
    "\n",
    "# calc = grace_calc\n",
    "calc = ace"
   ]
  },
  {
   "cell_type": "markdown",
   "id": "ad7017db-02b2-4843-b288-66982c0a6735",
   "metadata": {},
   "source": [
    "### <font style=\"font-family:roboto;color:#455e6c\"> Basic workflow for validation of energy-volume curves </font>  \n",
    "\n",
    "In the current notebook, we will utilize the defined models and predict the energies, volumes, and bulk moduli of certain phases. We accomplish this through a series of workflow nodes that perform the following tasks:\n",
    "\n",
    "1. **Build the Structure:**  \n",
    "   Using a minimal input (such as an element string, e.g. `\"Ca\"`), we generate a bulk atomic structure using the `Bulk` node from `pyiron_nodes`. This node creates the structure based on common crystallographic data.\n",
    "\n",
    "2. **Structure Optimization:**  \n",
    "   The generated structure is optimized using the chosen calculator. In this step, the atomic positions and cell parameters are relaxed (using algorithms such as BFGS) until the forces are below a specified threshold. This optimization is critical to ensure that the following energy-volume calculations are accurate.\n",
    "\n",
    "3. **Energy–Volume (EV) Curve Calculation:**  \n",
    "   Once optimized, the workflow computes an EV curve by scaling the unit cell around the equilibrium volume. For each scaled structure, the potential energy is calculated.\n",
    "\n",
    "4. **Plotting:**  \n",
    "   Optionally, the EV curve and the fitted EOS are plotted. This allows us to visually assess the smoothness of the potential energy landscape predicted by the models.\n",
    "\n",
    "5. **Fitting the Birch–Murnaghan Equation of State:**  \n",
    "   The computed EV curve is fitted to the Birch–Murnaghan equation of state (EOS). This fitting yields important physical quantities:\n",
    "   - **E0:** Equilibrium energy\n",
    "   - **V0:** Equilibrium volume\n",
    "   - **B0:** Bulk modulus  \n",
    "   These parameters are essential for comparing the ACE potential predictions with DFT or experimental reference data.\n",
    "\n",
    "\n"
   ]
  },
  {
   "cell_type": "markdown",
   "id": "2f029936-02a4-4977-acce-87d5c79aa0ba",
   "metadata": {},
   "source": [
    "#### <font style=\"font-family:roboto;color:#455e6c\"> Build the structure </font>  \n",
    "\n",
    "Use an in-built node `from pyiron_nodes.atomistic.structure.build import Bulk` to generate atomic structures. For single-element phases, the node automatically generates the ground-state structure for the given element with a rough guess for the lattice parameter.\n",
    "\n",
    "Execute `Bulk?` for more details"
   ]
  },
  {
   "cell_type": "code",
   "execution_count": null,
   "id": "d773b63b-bedd-4a1f-b581-d3dd69a08b25",
   "metadata": {},
   "outputs": [],
   "source": [
    "from pyiron_nodes.atomistic.structure.build import Bulk \n",
    "# Bulk?"
   ]
  },
  {
   "cell_type": "code",
   "execution_count": null,
   "id": "abb3fe52-5d7f-4c51-9b98-37e5147497d1",
   "metadata": {},
   "outputs": [],
   "source": [
    "bulk_struc = Bulk(\"Ca\", cubic=True)\n",
    "bulk_struc = bulk_struc.pull()\n",
    "bulk_struc"
   ]
  },
  {
   "cell_type": "markdown",
   "id": "6cc90b38-365b-4537-a0d9-a84d208b50aa",
   "metadata": {},
   "source": [
    "#### <font style=\"font-family:roboto;color:#455e6c\"> Structure optimization </font> \n",
    "\n",
    "The generated structure may not be in equilibirum. Before proceeding further, it is important that the structure is optimized.\n",
    "\n",
    "We use a predefined `OptimizeStructure` function to relax both the atomic positions and cell vectors."
   ]
  },
  {
   "cell_type": "code",
   "execution_count": null,
   "id": "0c61d487-e964-4650-a59d-ae6a7b76cb2f",
   "metadata": {},
   "outputs": [],
   "source": [
    "opt_struc = OptimizeStructure(bulk_struc, calc)\n",
    "opt_struc = opt_struc.pull()\n",
    "opt_struc"
   ]
  },
  {
   "cell_type": "markdown",
   "id": "fc4a22f0-b6c5-41b1-adab-0b52ac356ee1",
   "metadata": {},
   "source": [
    "#### <font style=\"font-family:roboto;color:#455e6c\"> Energy-Volume curve calculation </font>  \n",
    "\n",
    "With the optimized structure (denoted as `opt_struc`) in hand, we proceed to calculate the energy-volume (EV) curves. These curves provide essential information about the structure, including the equilibrium energy, equilibrium volume (and the corresponding lattice parameter), as well as the bulk modulus. Such properties can be directly compared to DFT results or experimental data.\n",
    "\n",
    "We utilize a predefined node, `CalculateEVCurve`, to generate a DataFrame containing the atomic volumes and their corresponding energies. This node offers several parameters that allow you to fine-tune the volume range and the number of calculation points, ensuring a detailed and accurate EV curve.\n"
   ]
  },
  {
   "cell_type": "code",
   "execution_count": null,
   "id": "afd854cd-c63f-4999-b258-2cf0dfb66626",
   "metadata": {
    "scrolled": true
   },
   "outputs": [],
   "source": [
    "ev_curve_df = CalculateEVCurve(\n",
    "                                structure=opt_struc, \n",
    "                                calculator=calc, \n",
    "                                vol_range = 0.1,\n",
    "                                num_of_points = 11,\n",
    "                                optimize = False,\n",
    "                            )\n",
    "\n",
    "ev_curve_df = ev_curve_df.pull()\n",
    "ev_curve_df"
   ]
  },
  {
   "cell_type": "markdown",
   "id": "8079795d-50b6-4f08-871f-bf6dc511ca26",
   "metadata": {},
   "source": [
    "#### <font style=\"font-family:roboto;color:#455e6c\"> Plotting the EV curve </font>  \n",
    "\n",
    "The node`PlotEVCurve` allows us to plot the dataframe obtained in the previous step. Visualizing the EV curves provides an indication of the smoothness of the predicted potential energy surface."
   ]
  },
  {
   "cell_type": "code",
   "execution_count": null,
   "id": "4e56ec43-efc5-4f7a-b728-c2125a546c73",
   "metadata": {},
   "outputs": [],
   "source": [
    "ev_plot = PlotEVCurve(ev_curve_df = ev_curve_df)\n",
    "ev_plot.pull();"
   ]
  },
  {
   "cell_type": "markdown",
   "id": "483f8570-7f01-437d-a24c-6d6937cdb18f",
   "metadata": {},
   "source": [
    "#### <font style=\"font-family:roboto;color:#455e6c\"> Fitting the Birch–Murnaghan Equation of State </font>  \n",
    "\n",
    "\n",
    "The Birch-Murnaghan EOS is given by,  \n",
    "\n",
    "$E(V) = E_0 + \\frac{9V_0 B_0}{16} \\Bigg\\{ \\Bigg[\\frac{V_0}{V}^{\\frac{2}{3}} - 1\\Bigg]^3 B_0^\\prime + \\Bigg[ \\frac{V_0}{V}^{\\frac{2}{3}} - 1\\Bigg]^2 \\Bigg[ \\frac{V_0}{V}^{\\frac{2}{3}} \\Bigg] \\Bigg\\}$.\n",
    "\n",
    "\n",
    "By fitting the EV data to this equation, we can extract the key parameters: the equilibrium energy $E_0$, equilibrium volume $V_0$, bulk modulus $B_0$, and its pressure derivative $B_0'$. This is achieved by invoking the node `FitBirchMurnaghanEOS` and supplying the EV data as input."
   ]
  },
  {
   "cell_type": "code",
   "execution_count": null,
   "id": "5f6880ac-056c-4654-abd6-5750d40800da",
   "metadata": {},
   "outputs": [],
   "source": [
    "fit = FitBirchMurnaghanEOS(ev_curve_df)\n",
    "E0, V0, B0 = fit.pull()\n",
    "\n",
    "print(f\"E0={E0}, V0={V0}, B0={B0}\")"
   ]
  },
  {
   "cell_type": "markdown",
   "id": "03337507-f95a-4f91-b000-a6e7b5b3b5b5",
   "metadata": {},
   "source": [
    "### <font style=\"font-family:roboto;color:#455e6c\"> Combine everything in a workflow </font>  \n",
    "\n",
    "The individual functions described above can be seamlessly integrated into a single workflow using the `pyiron_workflow.Workflow` object. All the steps—from structure generation and optimization to EV curve calculation and EOS fitting—are encapsulated within the `make_murnaghan_workflow` node.\n",
    "\n",
    "To create the complete workflow, simply provide the element name (which is used to build the structure) and the potential path (which selects the appropriate calculator). This unified workflow streamlines the validation process, making it straightforward to assess the quality of your potentials.\n"
   ]
  },
  {
   "cell_type": "code",
   "execution_count": null,
   "id": "4b83b0fc-89db-4755-a311-b1027ea62e0b",
   "metadata": {
    "scrolled": true
   },
   "outputs": [],
   "source": [
    "wf = make_murnaghan_workflow(\"Ca_workflow1\",\n",
    "                             element_str=\"Ca\",\n",
    "                             potential_path = \"potentials/Ca_Mg_linear_potential.yace\",\n",
    "                             delete_existing_savefiles=True)\n",
    "\n",
    "# run the workflow\n",
    "wf.run()\n",
    "\n",
    "# print the output values\n",
    "print(\"Equilibrium Energy (E0):\", wf.outputs[\"fit_eos__E0\"].value)\n",
    "print(\"Equilibrium Volume (V0):\", wf.outputs[\"fit_eos__V0\"].value)\n",
    "print(\"Bulk Modulus (B0):\", wf.outputs[\"fit_eos__B0_GPa\"].value)"
   ]
  },
  {
   "cell_type": "markdown",
   "id": "fb37a4a4-e6bf-491e-a159-b0ff7381e79f",
   "metadata": {},
   "source": [
    "### <font style=\"font-family:roboto;color:#455e6c\"> GUI </font>  \n",
    "\n",
    "A powerful feature of `pyiron_workflow` is its interactive GUI, which lets you visualize the entire workflow. Through this interface, you can easily inspect the individual nodes and their connections, as well as modify them—either one node at a time or adjust how they interact with each other.\n"
   ]
  },
  {
   "cell_type": "code",
   "execution_count": null,
   "id": "6bd9a128-d54e-4ad7-8491-e11ca8b0df4d",
   "metadata": {},
   "outputs": [],
   "source": [
    "from pyironflow import PyironFlow\n",
    "\n",
    "pf = PyironFlow([wf])"
   ]
  },
  {
   "cell_type": "code",
   "execution_count": null,
   "id": "d6af2c16-b24a-4d8d-b9dd-e939ce9b7e08",
   "metadata": {},
   "outputs": [],
   "source": [
    "pf.gui"
   ]
  },
  {
   "cell_type": "markdown",
   "id": "efc399a6-77e9-43c8-addd-9584d7b589bf",
   "metadata": {},
   "source": [
    "### <font style=\"font-family:roboto;color:#455e6c\"> Generate Multiple Workflows to Compare Different Potentials over Multiple Structures </font>  \n",
    "\n",
    "Now that we have established how to create a workflow for a given structure and potential, we can extend this approach to explore a variety of cases. In this section, we generate multiple workflows by iterating over three different structures—Ca-fcc, Mg-hcp, and a CaMg phase (sourced from the [Materials Project](https://next-gen.materialsproject.org/materials/mp-1039120/))—and testing them against various potentials.\n",
    "\n",
    "Once these workflows are created, we can run them and then iterate over the results to produce comparison plots. This comprehensive analysis enables us to assess the performance of different potentials across multiple phases.\n"
   ]
  },
  {
   "cell_type": "code",
   "execution_count": null,
   "id": "96d533b7-c9a8-4b2a-af25-95f56fbfb280",
   "metadata": {
    "scrolled": true
   },
   "outputs": [],
   "source": [
    "import os\n",
    "import matplotlib.pyplot as plt\n",
    "\n",
    "\n",
    "# Structure labels as element-strings: (the actual atomic structures are generated within the workflow)\n",
    "struc_labels = [\"Ca\", \"CaMg\", \"Mg\",]\n",
    "\n",
    "# Define potential paths and assign labels (these labels will be part of the workflow name)\n",
    "potentials = {\n",
    "    'LinearACE': \"potentials/Ca_Mg_linear_potential.yace\",\n",
    "    # \"ACE_nfuncs_10\": \"potentials/Bad_linear_potential.yace\",\n",
    "    # \"ACE_nfuncs_50\": \"potentials/Better_potential.yace\",\n",
    "    # \"GRACE_1L_r6\": \"MP_GRACE_1L_r6_07Nov2024\",\n",
    "    \"GRACE_1L_OAM\": \"GRACE-1L-OAM\",\n",
    "    \"GRACE_2L_OAM\" : \"GRACE-2L-OAM\"\n",
    "}\n",
    "\n",
    "# Create an empty dictionary to store the workflows:\n",
    "workflows = {}\n",
    "\n",
    "# Loop over all structure and potential combinations:\n",
    "for struc_label in struc_labels:\n",
    "    for pot_label, pot_path in potentials.items():\n",
    "        \n",
    "        # Create a unique workflow name\n",
    "        wf_name = f\"{struc_label}_{pot_label}\"\n",
    "        \n",
    "        wf = make_murnaghan_workflow(\n",
    "            workflow_name=wf_name,\n",
    "            element_str=struc_label,\n",
    "            potential_path=pot_path,\n",
    "            delete_existing_savefiles=True\n",
    "        )\n",
    "        # Set the structure input (other inputs like fmax, max_steps, etc. can be set here as needed)\n",
    "        # wf.inputs.structure = structure\n",
    "        \n",
    "        # Run the workflow.\n",
    "        wf.run()\n",
    "        \n",
    "        # Save the workflow object for later analysis/plotting.\n",
    "        workflows[wf_name] = wf"
   ]
  },
  {
   "cell_type": "code",
   "execution_count": null,
   "id": "daeb65c5-4654-48e7-8d8d-c5c1ad54887c",
   "metadata": {},
   "outputs": [],
   "source": [
    "workflows"
   ]
  },
  {
   "cell_type": "code",
   "execution_count": null,
   "id": "9fbecc57-d210-46ab-ae01-76ad9dacad9a",
   "metadata": {},
   "outputs": [],
   "source": [
    "# DFT references taken from https://doi.org/10.1103/PhysRevB.107.104103\n",
    "\n",
    "ref_e0 = {\"Ca\": -1.930,\n",
    "          \"Mg\" : -1.506,\n",
    "          \"CaMg\" : -1.802}\n",
    "\n",
    "ref_V = {\"Ca\": 42.193,\n",
    "          \"Mg\" : 22.953,\n",
    "          \"CaMg\" : 30.939}"
   ]
  },
  {
   "cell_type": "code",
   "execution_count": null,
   "id": "1cbd835e-7287-4481-b9e8-128a83310ab8",
   "metadata": {},
   "outputs": [],
   "source": [
    "fontsize = 16\n",
    "\n",
    "fig, ax_list = plt.subplots(ncols=3, dpi=150, sharex=True, sharey=True, figsize=(12,4), constrained_layout=True)\n",
    "\n",
    "ii = 0\n",
    "for ii, struc_label in enumerate(struc_labels):\n",
    "    ax = ax_list[ii]\n",
    "    ii += 1\n",
    "\n",
    "    ref_e = ref_e0[struc_label]\n",
    "    ref_v = ref_V[struc_label]\n",
    "    # ax.axhline(ref_e, ls=\"--\", label=\"DFT reference\")\n",
    "    ax.scatter(ref_v,ref_e, \n",
    "               marker=\"o\",\n",
    "               s=200,\n",
    "               facecolor=\"None\",\n",
    "               edgecolor=\"k\",\n",
    "               lw=3,\n",
    "               zorder=5,\n",
    "               label=\"DFT reference\"\n",
    "              )\n",
    "\n",
    "    \n",
    "    for jj,pot_label in enumerate(potentials.keys()):\n",
    "        wf_name = f\"{struc_label}_{pot_label}\"\n",
    "        print(wf_name)\n",
    "\n",
    "        wf = workflows[wf_name]\n",
    "        df = wf.calculate_ev_curve.outputs.df.value\n",
    "        \n",
    "        ax.plot(df['volume'], df['energy'],\n",
    "                'o-', \n",
    "                lw=3,\n",
    "                label=f\"{pot_label}\")\n",
    "        ax.set_xlabel(\"Volume (Å³)\",fontsize=fontsize)\n",
    "        ax.tick_params(labelsize=fontsize-2)\n",
    "        ax.set_title(struc_label,fontsize=fontsize)\n",
    "        \n",
    "\n",
    "\n",
    "ax_list[0].set_ylabel(\"Energy (eV)\",fontsize=fontsize)\n",
    "ax_list[0].legend(prop={\"size\":fontsize-6}, ncol=2)\n",
    "\n",
    "# plt.tight_layout()\n",
    "plt.show()"
   ]
  },
  {
   "cell_type": "markdown",
   "id": "a9a77c57-9e9f-4ac0-b9dc-60b5fdfa1ec6",
   "metadata": {},
   "source": [
    "Thus we can neatly compare the different potentials with DFT references. For the above plots, the DFT references are taken from [Poul et. al.](https://doi.org/10.1103/PhysRevB.107.104103) "
   ]
  },
  {
   "cell_type": "code",
   "execution_count": null,
   "id": "177658c0-db9a-454d-8af1-a44c2f592648",
   "metadata": {},
   "outputs": [],
   "source": [
    "# DFT references taken from https://doi.org/10.1103/PhysRevB.107.104103\n",
    "\n",
    "ref_B0 = {\"Ca\": 17.500,\n",
    "          \"CaMg\" : 25.769,\n",
    "          \"Mg\" : 36.434,\n",
    "          }"
   ]
  },
  {
   "cell_type": "code",
   "execution_count": null,
   "id": "c36b15e0-72e1-43b1-923e-40a434cc125b",
   "metadata": {},
   "outputs": [],
   "source": [
    "import numpy as np\n",
    "import matplotlib.pyplot as plt\n",
    "\n",
    "fontsize = 16\n",
    "\n",
    "# Define the order of structures and potentials.\n",
    "structures = list(struc_labels)  \n",
    "pot_labels = list(potentials.keys())   \n",
    "\n",
    "B0_values = []  # rows: structures, columns: potentials\n",
    "\n",
    "for struc_label in structures:\n",
    "    B0_row = []\n",
    "    for pot_label in pot_labels:\n",
    "        wf_name = f\"{struc_label}_{pot_label}\"\n",
    "        wf = workflows[wf_name]\n",
    "        # Assuming your FitBirchMurnaghanEOS node returns a dictionary mapped to 'eos'\n",
    "        B0 = wf.outputs[\"fit_eos__B0_GPa\"].value\n",
    "        B0_row.append(B0)\n",
    "    B0_values.append(B0_row)\n",
    "\n",
    "B0_values = np.array(B0_values)  # Shape: (n_structures, n_potentials)\n",
    "\n",
    "# Plotting a grouped bar chart.\n",
    "fig, ax = plt.subplots(dpi=150, figsize=(8, 6))\n",
    "\n",
    "n_groups = len(structures)\n",
    "n_bars = len(pot_labels)\n",
    "index = np.arange(n_groups)  # positions for groups on the x-\n",
    "\n",
    "ax.scatter(index, ref_B0.values(),\n",
    "           marker=\"x\",\n",
    "           s=200,\n",
    "           color=\"k\",\n",
    "           label=\"DFT reference\",\n",
    "           lw=3,\n",
    "           zorder=5,\n",
    "          )\n",
    "\n",
    "total_group_width = 0.8  \n",
    "bar_width = total_group_width / n_bars  \n",
    "\n",
    "for i, pot_label in enumerate(pot_labels):\n",
    "    # Compute offset so that bars are centered on each group position.\n",
    "    offset = (i - (n_bars - 1) / 2) * bar_width\n",
    "    ax.bar(index + offset, B0_values[:, i], bar_width, label=pot_label)\n",
    "\n",
    "ax.set_ylabel(\"Bulk Modulus (B0) [GPa]\", fontsize=fontsize)\n",
    "ax.set_xticks(index)\n",
    "ax.set_xticklabels(structures, fontsize=fontsize)\n",
    "ax.tick_params(axis=\"y\", labelsize=fontsize-2)\n",
    "ax.legend(fontsize=fontsize-2)\n",
    "\n",
    "plt.tight_layout()\n",
    "plt.show()\n"
   ]
  },
  {
   "cell_type": "markdown",
   "id": "c566a58c-7109-4ee7-9edf-9443fad65727",
   "metadata": {},
   "source": [
    "DFT references are taken from [Poul et. al.](https://doi.org/10.1103/PhysRevB.107.104103) "
   ]
  }
 ],
 "metadata": {
  "kernelspec": {
   "display_name": "Python 3 (ipykernel)",
   "language": "python",
   "name": "python3"
  },
  "language_info": {
   "codemirror_mode": {
    "name": "ipython",
    "version": 3
   },
   "file_extension": ".py",
   "mimetype": "text/x-python",
   "name": "python",
   "nbconvert_exporter": "python",
   "pygments_lexer": "ipython3",
   "version": "3.11.11"
  }
 },
 "nbformat": 4,
 "nbformat_minor": 5
}
