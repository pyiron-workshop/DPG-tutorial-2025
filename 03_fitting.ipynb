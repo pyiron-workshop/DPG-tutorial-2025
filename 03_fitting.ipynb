{
 "cells": [
  {
   "cell_type": "markdown",
   "id": "343b55a0-54c8-4b52-b63f-6cc525536233",
   "metadata": {},
   "source": [
    "# <font style=\"font-family:roboto;color:#455e6c\"> Parametrising a Machine Learning Interatomic Potential </font>  "
   ]
  },
  {
   "cell_type": "markdown",
   "id": "18a345a2-a257-4aa5-aaf1-0f9a6910ef09",
   "metadata": {},
   "source": [
    "<div class=\"admonition note\" name=\"html-admonition\" style=\"background:#e3f2fd; padding: 10px\">\n",
    "<font style=\"font-family:roboto;color:#455e6c\"> <b> DPG Tutorial: Automated Workflows and Machine Learning for Materials Science Simulations </b> </font> </br>\n",
    "<font style=\"font-family:roboto;color:#455e6c\"> 16 March 2025 </font> </br> </br>\n",
    "Marvin Poul, Sarath Menon, Haitham Gaafer, Jörg Neugebauer </br>\n",
    "<i> Max Planck Institute for Sustainable Materials </i></br>\n",
    "</br>\n",
    "Minaam Qamar, Ralf Drautz </br>\n",
    "<i> Ruhr-Universität Bochum </i></br>\n",
    "</br>\n",
    "Tilmann Hickel </br>\n",
    "<i> Bundesanstalt für Materialforschung und -prüfung </i></br>\n",
    "</div>"
   ]
  },
  {
   "cell_type": "markdown",
   "id": "9ba49d10-dbbf-410a-bf06-4a9157500682",
   "metadata": {},
   "source": [
    "In this notebook we fit an [Atomic Cluster Expansion](https://doi.org/10.1103/PhysRevB.99.014104) interatomic potential using the [pacemaker](https://www.nature.com/articles/s41524-021-00559-9) software."
   ]
  },
  {
   "cell_type": "code",
   "execution_count": null,
   "id": "92bd943e-f487-4544-a891-ee4005c87eea",
   "metadata": {},
   "outputs": [],
   "source": [
    "from pyironflow.pyironflow import PyironFlow\n",
    "import matplotlib.pyplot as plt\n",
    "from pyiron_nodes.atomistic.mlips.fitting.ace import *"
   ]
  },
  {
   "cell_type": "markdown",
   "id": "86d8fb28-fffa-4032-84a3-fb3b724e4b1a",
   "metadata": {},
   "source": [
    "## <font style=\"font-family:roboto;color:#455e6c\"> Loading the dataset </font> "
   ]
  },
  {
   "cell_type": "markdown",
   "id": "c6b7bf1b-beb0-4ff6-a21d-6caa104949b1",
   "metadata": {},
   "source": [
    "Recalling the workflow, we are in the first essential step of loading the training dataset"
   ]
  },
  {
   "cell_type": "markdown",
   "id": "2166e7d3-8a80-4b03-a1a4-f783a135db57",
   "metadata": {},
   "source": [
    "<img src=\"img/highlighted_workflow.png\" width=\"50%\">"
   ]
  },
  {
   "cell_type": "markdown",
   "id": "eb2bc626-a703-4ca0-b2f6-21d01755248f",
   "metadata": {},
   "source": [
    "As a first step, we load the dataset by specifying the `file_path'. This dataset has been generated for the CaMg system using the ASSYST approach discussed in the previous session [02_assyst.ipynb](02_assyst.ipynb)."
   ]
  },
  {
   "cell_type": "code",
   "execution_count": null,
   "id": "a4b6d610-6d19-4e2e-a517-bde095366230",
   "metadata": {},
   "outputs": [],
   "source": [
    "load_dataset = ReadPickledDatasetAsDataframe(file_path = \"data/mgca.pckl.tgz\", compression = None)\n",
    "load_dataset.pull();"
   ]
  },
  {
   "cell_type": "markdown",
   "id": "9fc5290d-23ed-4fd9-a46b-da71f6b4be36",
   "metadata": {},
   "source": [
    "The histogram of the total energies of all atomic structures in the dataset is plotted using the `PlotEnergyHistogram' node."
   ]
  },
  {
   "cell_type": "code",
   "execution_count": null,
   "id": "d8e897e4-424b-4435-b58a-bf2e929fd6ec",
   "metadata": {},
   "outputs": [],
   "source": [
    "hist_plot = PlotEnergyHistogram(df = load_dataset.outputs.df, log_scale = False)\n",
    "hist_plot.pull();"
   ]
  },
  {
   "cell_type": "markdown",
   "id": "5494fa69-90bb-4911-abd9-7bc380728737",
   "metadata": {},
   "source": [
    "Similarly, using the `PlotForcesHistogram` Node, we can plot the forces histogram"
   ]
  },
  {
   "cell_type": "code",
   "execution_count": null,
   "id": "a16bf4c2-959c-4188-8d73-78f1b828bcee",
   "metadata": {},
   "outputs": [],
   "source": [
    "hist_plot = PlotForcesHistogram(df = load_dataset.outputs.df, log_scale = True)\n",
    "hist_plot.pull();"
   ]
  },
  {
   "cell_type": "markdown",
   "id": "c724fed7-425c-4ece-80b7-004d9c5429be",
   "metadata": {},
   "source": [
    "## <font style=\"font-family:roboto;color:#455e6c\"> Split the dataset into training and test </font> "
   ]
  },
  {
   "cell_type": "markdown",
   "id": "8515a9e5-0b5b-4690-a1ef-8fac4e7caf4a",
   "metadata": {},
   "source": [
    "In a second step, we split the dataset into training and testing datasets.\n",
    "\n",
    "This is done by choosing the percentage used for the training dataset through the `training_frac` parameter, where `training_frac = 0.5` means we use 50% for training and 50% for testing."
   ]
  },
  {
   "cell_type": "code",
   "execution_count": null,
   "id": "b0baa913-1c4c-47de-ac12-039f8c6e5d91",
   "metadata": {},
   "outputs": [],
   "source": [
    "split_dataset = SplitTrainingAndTesting(data_df = load_dataset.outputs.df, training_frac = 0.5)"
   ]
  },
  {
   "cell_type": "markdown",
   "id": "ee5f0d74-e6ca-4745-8686-df60dbd15e1a",
   "metadata": {},
   "source": [
    "## <font style=\"font-family:roboto;color:#455e6c\"> Define and specify the configuration of the ACE potential </font> "
   ]
  },
  {
   "cell_type": "markdown",
   "id": "7b2f1d6b-129f-41ca-9650-5e0f321b5eff",
   "metadata": {},
   "source": [
    "Following the `PACEmaker` notation, we create a file similar to `input.yaml` (see the `PACEmaker` [documentation](https://pacemaker.readthedocs.io/en/latest/) for more details).\n",
    "\n",
    "```\n",
    "fit:\n",
    "  fit_cycles: 1\n",
    "  loss: {L1_coeffs: 1e-08, L2_coeffs: 1e-08, kappa: 0.08, w0_rad: 0, w1_rad: 0, w2_rad: 0}\n",
    "  maxiter: 1000\n",
    "  optimizer: BFGS\n",
    "  trainable_parameters: ALL\n",
    "  weighting: {DE: 1.0, DElow: 1.0, DEup: 10.0, DF: 1.0, DFup: 50.0, energy: convex_hull,\n",
    "    nfit: 20000, reftype: all, seed: 42, type: EnergyBasedWeightingPolicy, wlow: 0.95}\n",
    ".\n",
    ".\n",
    ".\n",
    "potential:\n",
    "  bonds:\n",
    "    ALL:\n",
    "      dcut: 0.01\n",
    "      radbase: SBessel\n",
    "      radparameters: [5.25]\n",
    "      rcut: 6.0\n",
    "  elements: [Mg, Ca]\n",
    "  embeddings:\n",
    "    ALL:\n",
    "      fs_parameters: [1, 1, 1, 0.5]\n",
    "      ndensity: 2\n",
    "      npot: FinnisSinclairShiftedScaled\n",
    "  functions:\n",
    "    number_of_functions_per_element = 300\n",
    "    ALL:\n",
    "      lmax_by_orders: [15, 6, 2, 1]\n",
    "      nradmax_by_orders: [0, 6, 3, 1]"
   ]
  },
  {
   "cell_type": "markdown",
   "id": "e511635c-37bc-4209-a7cc-a1361d67a0c2",
   "metadata": {
    "jp-MarkdownHeadingCollapsed": true
   },
   "source": [
    "### 1. Embeddings\n",
    "specify how the atomic energy $E_i$ depends on the ACE properties/densities $\\varphi$. The most approximate approach, but the most efficient for potential fitting, is the linear expansion $E_i = \\varphi$. Non-linear expansions, e.g. including the square root, provide more flexibility and accuracy of the final potential, but require significantly more computational resources for fitting."
   ]
  },
  {
   "cell_type": "markdown",
   "id": "fce52437-d889-43f7-bee0-23eab0b48e42",
   "metadata": {},
   "source": [
    "Embeddings for `ALL` species: \n",
    "- non-linear `FinnisSinclairShiftedScaled`\n",
    "- 2 densities\n",
    "- fs_parameters': [1, 1, 1, 0.5]:\n",
    "$$E_i = 1.0 * \\varphi(1)^1 + 1.0 * \\varphi(2)^{0.5} = \\varphi^{(1)} + \\sqrt{\\varphi^{(2)}} $$"
   ]
  },
  {
   "cell_type": "markdown",
   "id": "506af491-611c-47ee-9fd6-7e51b17a5b31",
   "metadata": {},
   "source": [
    "### 2. Radial functions"
   ]
  },
  {
   "cell_type": "markdown",
   "id": "efb972b0-1a07-4eb6-9c82-8553ac9c60c5",
   "metadata": {},
   "source": [
    "Radial functions are defined by orthogonal polynomals. Examples are:\n",
    "* (a) Exponentially-scaled Chebyshev polynomials (λ = 5.25)\n",
    "* (b) Power-law scaled Chebyshev polynomials (λ = 2.0)\n",
    "* (c) Simplified spherical Bessel functions"
   ]
  },
  {
   "cell_type": "markdown",
   "id": "68401041-ad7f-4c9a-b724-1023cdeb561d",
   "metadata": {},
   "source": [
    "<img src=\"img/radial-functions-low.png\" width=\"40%\">"
   ]
  },
  {
   "cell_type": "markdown",
   "id": "d49569d8-aafc-4bd8-9c3b-8870013a0fed",
   "metadata": {},
   "source": [
    "Radial functions specification have to be provided for `ALL` species pairs (i.e. Al-Al, Al-Li, Li-Al, Li-Li):\n",
    "\n",
    "* based on the Simplified Bessel function\n",
    "* and cutoff, e.g. $r_c=6.0$"
   ]
  },
  {
   "cell_type": "markdown",
   "id": "c14b89ae-b0f3-47e5-a01a-2544e3021dfe",
   "metadata": {},
   "source": [
    "#### 3. B-basis functions"
   ]
  },
  {
   "cell_type": "markdown",
   "id": "ae42a96a-3ae0-4c8a-8031-00bffdf6324e",
   "metadata": {},
   "source": [
    "B-basis functions  specifications for `ALL` species type interactions, i.e. Al-Al block:\n",
    "* maximum order = 4, i.e. body-order 5 (1 central atom + 4 neighbour  densities)\n",
    "* nradmax_by_orders: 15, 3, 2, 1\n",
    "* lmax_by_orders: 0, 3, 2, 1"
   ]
  },
  {
   "cell_type": "markdown",
   "id": "ce5f6f63-2062-46e3-b21b-26ba0ab80fa2",
   "metadata": {},
   "source": [
    "For simplicity, the main inputs that we will consider for the potential configurations are:\n",
    "\n",
    "- `number_of_functions_per_element`: specifies how many functions will be provided in the potential\n",
    "- `rcut`: specifies what the cutoff radius is"
   ]
  },
  {
   "cell_type": "code",
   "execution_count": null,
   "id": "50d65188-89f8-4b85-8da7-5dc31cbd231b",
   "metadata": {},
   "outputs": [],
   "source": [
    "parameterize_potential = ParameterizePotentialConfig(number_of_functions = 10, rcut = 6.0)"
   ]
  },
  {
   "cell_type": "markdown",
   "id": "ecb33772-a312-472c-993f-7598a9e4b0df",
   "metadata": {},
   "source": [
    "Check the current potential configurations in dictionary format,"
   ]
  },
  {
   "cell_type": "code",
   "execution_count": null,
   "id": "ddb57480-9001-4f62-a50a-e5b94d73a36f",
   "metadata": {},
   "outputs": [],
   "source": [
    "parameterize_potential.pull().to_dict()"
   ]
  },
  {
   "cell_type": "markdown",
   "id": "1c385509-c70e-4309-827c-c26714928c46",
   "metadata": {},
   "source": [
    "## <font style=\"font-family:roboto;color:#455e6c\"> Linear fitting </font>"
   ]
  },
  {
   "cell_type": "markdown",
   "id": "69018630-5b23-466d-aad4-d285112e45d1",
   "metadata": {},
   "source": [
    "Finally, we run our fit with the thus defined `potential_config` and then save the potential files inside a new folder.\n",
    "\n",
    "**Note:** Setting `verbose = True` will show all the details of building the design matrices."
   ]
  },
  {
   "cell_type": "code",
   "execution_count": null,
   "id": "729fbf7d-95d2-4fe7-8fce-10e77dca4446",
   "metadata": {},
   "outputs": [],
   "source": [
    "run_linear_fit = RunLinearFit(potential_config = parameterize_potential,\n",
    "                                                df_train = split_dataset.outputs.df_training,\n",
    "                                                df_test= split_dataset.outputs.df_testing, verbose = False)"
   ]
  },
  {
   "cell_type": "code",
   "execution_count": null,
   "id": "40270f79-5dbb-4aa9-adfe-82f003155274",
   "metadata": {},
   "outputs": [],
   "source": [
    "save_potential = SavePotential(basis = run_linear_fit.outputs.basis)"
   ]
  },
  {
   "cell_type": "code",
   "execution_count": null,
   "id": "d4983605-00ce-4692-b244-aa1fad22cbb3",
   "metadata": {},
   "outputs": [],
   "source": [
    "save_potential.pull()"
   ]
  },
  {
   "cell_type": "markdown",
   "id": "cfd5eb51-dfb8-43a0-b21c-4d3aa8f28ad2",
   "metadata": {},
   "source": [
    "## <font style=\"font-family:roboto;color:#455e6c\"> Workflow </font>"
   ]
  },
  {
   "cell_type": "code",
   "execution_count": null,
   "id": "5c21c0fe-f3ff-430c-8099-c4bd7e3eb5b5",
   "metadata": {},
   "outputs": [],
   "source": [
    "wf = make_linearfit(workflow_name= 'LinearAceDataset', file_path='data/mgca.pckl.tgz', delete_existing_savefiles=True)"
   ]
  },
  {
   "cell_type": "code",
   "execution_count": null,
   "id": "5483f18b-1a78-4ee9-ba9f-fb638b1dd62b",
   "metadata": {},
   "outputs": [],
   "source": [
    "wf.draw(size=(20,10))"
   ]
  },
  {
   "cell_type": "markdown",
   "id": "7f77f04e-ecab-4166-8a85-592f437e7f07",
   "metadata": {},
   "source": [
    "You can save the workflow using `wf.save()` to call it back later without the need to re-run it."
   ]
  },
  {
   "cell_type": "code",
   "execution_count": null,
   "id": "acce4738-d2f6-464f-91ab-810f5183dae8",
   "metadata": {},
   "outputs": [],
   "source": [
    "wf.save()"
   ]
  },
  {
   "cell_type": "markdown",
   "id": "62526196-aae7-4680-9533-a932a3aab0e5",
   "metadata": {},
   "source": [
    "## <font style=\"font-family:roboto;color:#455e6c\"> Loading the workflow into the GUI </font>"
   ]
  },
  {
   "cell_type": "markdown",
   "id": "6e022be1-b074-47af-9c9d-6aaff107d487",
   "metadata": {},
   "source": [
    "Run the workflow using the GUI and perform a level 1 validation of our linear ACE potential.\n",
    "\n",
    "Helpful nodes for performing this task:\n",
    "- `atomistic -> mlips -> fitting -> ace`: contains all nodes to run the linear ACE fit, to plot the data histograms and the fitting's accuracy curves."
   ]
  },
  {
   "cell_type": "markdown",
   "id": "b11a4cf2-f4fe-4275-9e87-6436518fd41e",
   "metadata": {},
   "source": [
    "<img src=\"img/validation_schematic.png\" width=\"60%\">"
   ]
  },
  {
   "cell_type": "markdown",
   "id": "74f43584-fbc2-4c72-bb66-857cb3425e04",
   "metadata": {},
   "source": [
    "**NOTE:** You can change the ratio of the canvas to the whole screen by changing the value of `flow_widget_ratio` between 0 to 1 (try 0.6 or 0.7)"
   ]
  },
  {
   "cell_type": "code",
   "execution_count": null,
   "id": "91f8ec2e-468c-434e-a7b3-3b5556aee30c",
   "metadata": {},
   "outputs": [],
   "source": [
    "pf = PyironFlow([wf], flow_widget_ratio = 0.7)\n",
    "pf.gui"
   ]
  },
  {
   "cell_type": "markdown",
   "id": "9b4f7552-ed53-4c88-94c9-df9360139fe7",
   "metadata": {},
   "source": [
    "Exercise: change the `number_of_functions_per_element` to a higher value (i.e., 50) and check the fitting curves. Did the fit get better or worse?\n",
    "\n",
    "**Note:** You can save the potential under a new name using the `filename` input in `save_potential` node."
   ]
  },
  {
   "cell_type": "markdown",
   "id": "ba57b8e1",
   "metadata": {},
   "source": [
    "<img src=\"img/logo_roll.png\" width=\"1200\">"
   ]
  }
 ],
 "metadata": {
  "kernelspec": {
   "display_name": "Python 3 (ipykernel)",
   "language": "python",
   "name": "python3"
  },
  "language_info": {
   "codemirror_mode": {
    "name": "ipython",
    "version": 3
   },
   "file_extension": ".py",
   "mimetype": "text/x-python",
   "name": "python",
   "nbconvert_exporter": "python",
   "pygments_lexer": "ipython3",
   "version": "3.11.11"
  },
  "widgets": {
   "application/vnd.jupyter.widget-state+json": {
    "state": {},
    "version_major": 2,
    "version_minor": 0
   }
  }
 },
 "nbformat": 4,
 "nbformat_minor": 5
}
